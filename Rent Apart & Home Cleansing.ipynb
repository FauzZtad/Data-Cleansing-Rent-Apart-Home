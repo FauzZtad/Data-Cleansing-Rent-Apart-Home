{
  "nbformat": 4,
  "nbformat_minor": 0,
  "metadata": {
    "colab": {
      "provenance": [],
      "toc_visible": true,
      "authorship_tag": "ABX9TyMx7+pMe1MgCubcMGVdpZhk",
      "include_colab_link": true
    },
    "kernelspec": {
      "name": "python3",
      "display_name": "Python 3"
    },
    "language_info": {
      "name": "python"
    }
  },
  "cells": [
    {
      "cell_type": "markdown",
      "metadata": {
        "id": "view-in-github",
        "colab_type": "text"
      },
      "source": [
        "<a href=\"https://colab.research.google.com/github/FauzZtad/Data-Cleansing-Rent-Apart-Home/blob/main/Rent%20Apart%20%26%20Home%20Cleansing.ipynb\" target=\"_parent\"><img src=\"https://colab.research.google.com/assets/colab-badge.svg\" alt=\"Open In Colab\"/></a>"
      ]
    },
    {
      "cell_type": "markdown",
      "source": [
        "# Import Module"
      ],
      "metadata": {
        "id": "RNrT4rYzRTpm"
      }
    },
    {
      "cell_type": "code",
      "execution_count": 1,
      "metadata": {
        "id": "GNe3tAwjQvlC"
      },
      "outputs": [],
      "source": [
        "import pandas as pd\n",
        "import numpy as np\n",
        "import matplotlib.pyplot as plt"
      ]
    },
    {
      "cell_type": "code",
      "source": [
        "import warnings\n",
        "warnings.filterwarnings('ignore')"
      ],
      "metadata": {
        "id": "UUSPdgLeRg_M"
      },
      "execution_count": 2,
      "outputs": []
    },
    {
      "cell_type": "markdown",
      "source": [
        "# 1. Persiapan Data Awal"
      ],
      "metadata": {
        "id": "X7Fk_hwhSIUx"
      }
    },
    {
      "cell_type": "code",
      "source": [
        "data = pd.read_csv('/content/AB_NYC_2019.csv')"
      ],
      "metadata": {
        "id": "Sv96Rt5gSRAN"
      },
      "execution_count": 5,
      "outputs": []
    },
    {
      "cell_type": "code",
      "source": [
        "data.shape"
      ],
      "metadata": {
        "colab": {
          "base_uri": "https://localhost:8080/"
        },
        "id": "oQkvfErJSXSD",
        "outputId": "5984d20e-c2b0-4dab-d33b-ecb9533b9471"
      },
      "execution_count": 6,
      "outputs": [
        {
          "output_type": "execute_result",
          "data": {
            "text/plain": [
              "(5018, 15)"
            ]
          },
          "metadata": {},
          "execution_count": 6
        }
      ]
    },
    {
      "cell_type": "code",
      "source": [
        "data.head(10)"
      ],
      "metadata": {
        "colab": {
          "base_uri": "https://localhost:8080/",
          "height": 782
        },
        "id": "-PFXtM3hSeII",
        "outputId": "bf37de6f-eca7-4833-d808-9b774671eb93"
      },
      "execution_count": 7,
      "outputs": [
        {
          "output_type": "execute_result",
          "data": {
            "text/plain": [
              "         id                                             name    host_id  \\\n",
              "0  34229869                           Cozy Living Room Futon   27537930   \n",
              "1  31568673         Large private room w/ 2 built-in closets  236631469   \n",
              "2  36199363  Furnished room  for rent in Bronx SINGLE FEMALE  272247972   \n",
              "3  34180340                            Sunny & Spacious Room  181233778   \n",
              "4  32364762                                            Bronx   19303369   \n",
              "5  19054683                 Fully-furnished modern apartment   97907084   \n",
              "6  36243183                         Spacious private room #2   35783912   \n",
              "7  33528562     Private, warm & inviting contemporary space.  252641467   \n",
              "8  18442048                          Clean-N-Comfy Bronx Pad   25385574   \n",
              "9  36243240                         spacious private room #3   35783912   \n",
              "\n",
              "    host_name neighbourhood_group   neighbourhood  latitude  longitude  \\\n",
              "0     Preston               Bronx  Pelham Gardens  40.86209  -73.84667   \n",
              "1      Paloma              Bronxx  Williamsbridge  40.88449  -73.86227   \n",
              "2      Kadeen              Bronxx       Olinville  40.88116  -73.86547   \n",
              "3      Aishah              Bronxx         Belmont  40.85595  -73.88519   \n",
              "4      Hiroki              Bronxx     Kingsbridge  40.88474  -73.90321   \n",
              "5         Kim              Bronxx       Wakefield  40.90281  -73.85201   \n",
              "6    Pi & Leo              Bronxx         Fordham  40.86264  -73.89139   \n",
              "7  Antoinette               Bronx       Wakefield  40.88491  -73.85484   \n",
              "8         Che               Bronx        Allerton  40.86718  -73.86235   \n",
              "9    Pi & Leo               Bronx         Fordham  40.86263  -73.89088   \n",
              "\n",
              "         room_type  price  minimum_nights  number_of_reviews last_review  \\\n",
              "0      Shared room   20.0               1                NaN         NaN   \n",
              "1     Private room   25.0              30                NaN         NaN   \n",
              "2      Shared room   25.0              90                NaN         NaN   \n",
              "3     Private room   27.0              30                NaN         NaN   \n",
              "4     Private room   27.0              30                NaN         NaN   \n",
              "5  Entire home/apt   28.0               1                NaN         NaN   \n",
              "6     Private room   29.0               2                NaN         NaN   \n",
              "7     Private room   33.0               1                NaN         NaN   \n",
              "8     Private room   33.0               1                NaN         NaN   \n",
              "9     Private room   33.0               2                NaN         NaN   \n",
              "\n",
              "   reviews_per_month  availability_365  \n",
              "0                NaN                 5  \n",
              "1                NaN                85  \n",
              "2                NaN               190  \n",
              "3                NaN                68  \n",
              "4                NaN                 0  \n",
              "5                NaN                 0  \n",
              "6                NaN                81  \n",
              "7                NaN               116  \n",
              "8                NaN               179  \n",
              "9                NaN                84  "
            ],
            "text/html": [
              "\n",
              "  <div id=\"df-a76232d0-abf4-4c16-b0f4-2db4e14f213e\" class=\"colab-df-container\">\n",
              "    <div>\n",
              "<style scoped>\n",
              "    .dataframe tbody tr th:only-of-type {\n",
              "        vertical-align: middle;\n",
              "    }\n",
              "\n",
              "    .dataframe tbody tr th {\n",
              "        vertical-align: top;\n",
              "    }\n",
              "\n",
              "    .dataframe thead th {\n",
              "        text-align: right;\n",
              "    }\n",
              "</style>\n",
              "<table border=\"1\" class=\"dataframe\">\n",
              "  <thead>\n",
              "    <tr style=\"text-align: right;\">\n",
              "      <th></th>\n",
              "      <th>id</th>\n",
              "      <th>name</th>\n",
              "      <th>host_id</th>\n",
              "      <th>host_name</th>\n",
              "      <th>neighbourhood_group</th>\n",
              "      <th>neighbourhood</th>\n",
              "      <th>latitude</th>\n",
              "      <th>longitude</th>\n",
              "      <th>room_type</th>\n",
              "      <th>price</th>\n",
              "      <th>minimum_nights</th>\n",
              "      <th>number_of_reviews</th>\n",
              "      <th>last_review</th>\n",
              "      <th>reviews_per_month</th>\n",
              "      <th>availability_365</th>\n",
              "    </tr>\n",
              "  </thead>\n",
              "  <tbody>\n",
              "    <tr>\n",
              "      <th>0</th>\n",
              "      <td>34229869</td>\n",
              "      <td>Cozy Living Room Futon</td>\n",
              "      <td>27537930</td>\n",
              "      <td>Preston</td>\n",
              "      <td>Bronx</td>\n",
              "      <td>Pelham Gardens</td>\n",
              "      <td>40.86209</td>\n",
              "      <td>-73.84667</td>\n",
              "      <td>Shared room</td>\n",
              "      <td>20.0</td>\n",
              "      <td>1</td>\n",
              "      <td>NaN</td>\n",
              "      <td>NaN</td>\n",
              "      <td>NaN</td>\n",
              "      <td>5</td>\n",
              "    </tr>\n",
              "    <tr>\n",
              "      <th>1</th>\n",
              "      <td>31568673</td>\n",
              "      <td>Large private room w/ 2 built-in closets</td>\n",
              "      <td>236631469</td>\n",
              "      <td>Paloma</td>\n",
              "      <td>Bronxx</td>\n",
              "      <td>Williamsbridge</td>\n",
              "      <td>40.88449</td>\n",
              "      <td>-73.86227</td>\n",
              "      <td>Private room</td>\n",
              "      <td>25.0</td>\n",
              "      <td>30</td>\n",
              "      <td>NaN</td>\n",
              "      <td>NaN</td>\n",
              "      <td>NaN</td>\n",
              "      <td>85</td>\n",
              "    </tr>\n",
              "    <tr>\n",
              "      <th>2</th>\n",
              "      <td>36199363</td>\n",
              "      <td>Furnished room  for rent in Bronx SINGLE FEMALE</td>\n",
              "      <td>272247972</td>\n",
              "      <td>Kadeen</td>\n",
              "      <td>Bronxx</td>\n",
              "      <td>Olinville</td>\n",
              "      <td>40.88116</td>\n",
              "      <td>-73.86547</td>\n",
              "      <td>Shared room</td>\n",
              "      <td>25.0</td>\n",
              "      <td>90</td>\n",
              "      <td>NaN</td>\n",
              "      <td>NaN</td>\n",
              "      <td>NaN</td>\n",
              "      <td>190</td>\n",
              "    </tr>\n",
              "    <tr>\n",
              "      <th>3</th>\n",
              "      <td>34180340</td>\n",
              "      <td>Sunny &amp; Spacious Room</td>\n",
              "      <td>181233778</td>\n",
              "      <td>Aishah</td>\n",
              "      <td>Bronxx</td>\n",
              "      <td>Belmont</td>\n",
              "      <td>40.85595</td>\n",
              "      <td>-73.88519</td>\n",
              "      <td>Private room</td>\n",
              "      <td>27.0</td>\n",
              "      <td>30</td>\n",
              "      <td>NaN</td>\n",
              "      <td>NaN</td>\n",
              "      <td>NaN</td>\n",
              "      <td>68</td>\n",
              "    </tr>\n",
              "    <tr>\n",
              "      <th>4</th>\n",
              "      <td>32364762</td>\n",
              "      <td>Bronx</td>\n",
              "      <td>19303369</td>\n",
              "      <td>Hiroki</td>\n",
              "      <td>Bronxx</td>\n",
              "      <td>Kingsbridge</td>\n",
              "      <td>40.88474</td>\n",
              "      <td>-73.90321</td>\n",
              "      <td>Private room</td>\n",
              "      <td>27.0</td>\n",
              "      <td>30</td>\n",
              "      <td>NaN</td>\n",
              "      <td>NaN</td>\n",
              "      <td>NaN</td>\n",
              "      <td>0</td>\n",
              "    </tr>\n",
              "    <tr>\n",
              "      <th>5</th>\n",
              "      <td>19054683</td>\n",
              "      <td>Fully-furnished modern apartment</td>\n",
              "      <td>97907084</td>\n",
              "      <td>Kim</td>\n",
              "      <td>Bronxx</td>\n",
              "      <td>Wakefield</td>\n",
              "      <td>40.90281</td>\n",
              "      <td>-73.85201</td>\n",
              "      <td>Entire home/apt</td>\n",
              "      <td>28.0</td>\n",
              "      <td>1</td>\n",
              "      <td>NaN</td>\n",
              "      <td>NaN</td>\n",
              "      <td>NaN</td>\n",
              "      <td>0</td>\n",
              "    </tr>\n",
              "    <tr>\n",
              "      <th>6</th>\n",
              "      <td>36243183</td>\n",
              "      <td>Spacious private room #2</td>\n",
              "      <td>35783912</td>\n",
              "      <td>Pi &amp; Leo</td>\n",
              "      <td>Bronxx</td>\n",
              "      <td>Fordham</td>\n",
              "      <td>40.86264</td>\n",
              "      <td>-73.89139</td>\n",
              "      <td>Private room</td>\n",
              "      <td>29.0</td>\n",
              "      <td>2</td>\n",
              "      <td>NaN</td>\n",
              "      <td>NaN</td>\n",
              "      <td>NaN</td>\n",
              "      <td>81</td>\n",
              "    </tr>\n",
              "    <tr>\n",
              "      <th>7</th>\n",
              "      <td>33528562</td>\n",
              "      <td>Private, warm &amp; inviting contemporary space.</td>\n",
              "      <td>252641467</td>\n",
              "      <td>Antoinette</td>\n",
              "      <td>Bronx</td>\n",
              "      <td>Wakefield</td>\n",
              "      <td>40.88491</td>\n",
              "      <td>-73.85484</td>\n",
              "      <td>Private room</td>\n",
              "      <td>33.0</td>\n",
              "      <td>1</td>\n",
              "      <td>NaN</td>\n",
              "      <td>NaN</td>\n",
              "      <td>NaN</td>\n",
              "      <td>116</td>\n",
              "    </tr>\n",
              "    <tr>\n",
              "      <th>8</th>\n",
              "      <td>18442048</td>\n",
              "      <td>Clean-N-Comfy Bronx Pad</td>\n",
              "      <td>25385574</td>\n",
              "      <td>Che</td>\n",
              "      <td>Bronx</td>\n",
              "      <td>Allerton</td>\n",
              "      <td>40.86718</td>\n",
              "      <td>-73.86235</td>\n",
              "      <td>Private room</td>\n",
              "      <td>33.0</td>\n",
              "      <td>1</td>\n",
              "      <td>NaN</td>\n",
              "      <td>NaN</td>\n",
              "      <td>NaN</td>\n",
              "      <td>179</td>\n",
              "    </tr>\n",
              "    <tr>\n",
              "      <th>9</th>\n",
              "      <td>36243240</td>\n",
              "      <td>spacious private room #3</td>\n",
              "      <td>35783912</td>\n",
              "      <td>Pi &amp; Leo</td>\n",
              "      <td>Bronx</td>\n",
              "      <td>Fordham</td>\n",
              "      <td>40.86263</td>\n",
              "      <td>-73.89088</td>\n",
              "      <td>Private room</td>\n",
              "      <td>33.0</td>\n",
              "      <td>2</td>\n",
              "      <td>NaN</td>\n",
              "      <td>NaN</td>\n",
              "      <td>NaN</td>\n",
              "      <td>84</td>\n",
              "    </tr>\n",
              "  </tbody>\n",
              "</table>\n",
              "</div>\n",
              "    <div class=\"colab-df-buttons\">\n",
              "\n",
              "  <div class=\"colab-df-container\">\n",
              "    <button class=\"colab-df-convert\" onclick=\"convertToInteractive('df-a76232d0-abf4-4c16-b0f4-2db4e14f213e')\"\n",
              "            title=\"Convert this dataframe to an interactive table.\"\n",
              "            style=\"display:none;\">\n",
              "\n",
              "  <svg xmlns=\"http://www.w3.org/2000/svg\" height=\"24px\" viewBox=\"0 -960 960 960\">\n",
              "    <path d=\"M120-120v-720h720v720H120Zm60-500h600v-160H180v160Zm220 220h160v-160H400v160Zm0 220h160v-160H400v160ZM180-400h160v-160H180v160Zm440 0h160v-160H620v160ZM180-180h160v-160H180v160Zm440 0h160v-160H620v160Z\"/>\n",
              "  </svg>\n",
              "    </button>\n",
              "\n",
              "  <style>\n",
              "    .colab-df-container {\n",
              "      display:flex;\n",
              "      gap: 12px;\n",
              "    }\n",
              "\n",
              "    .colab-df-convert {\n",
              "      background-color: #E8F0FE;\n",
              "      border: none;\n",
              "      border-radius: 50%;\n",
              "      cursor: pointer;\n",
              "      display: none;\n",
              "      fill: #1967D2;\n",
              "      height: 32px;\n",
              "      padding: 0 0 0 0;\n",
              "      width: 32px;\n",
              "    }\n",
              "\n",
              "    .colab-df-convert:hover {\n",
              "      background-color: #E2EBFA;\n",
              "      box-shadow: 0px 1px 2px rgba(60, 64, 67, 0.3), 0px 1px 3px 1px rgba(60, 64, 67, 0.15);\n",
              "      fill: #174EA6;\n",
              "    }\n",
              "\n",
              "    .colab-df-buttons div {\n",
              "      margin-bottom: 4px;\n",
              "    }\n",
              "\n",
              "    [theme=dark] .colab-df-convert {\n",
              "      background-color: #3B4455;\n",
              "      fill: #D2E3FC;\n",
              "    }\n",
              "\n",
              "    [theme=dark] .colab-df-convert:hover {\n",
              "      background-color: #434B5C;\n",
              "      box-shadow: 0px 1px 3px 1px rgba(0, 0, 0, 0.15);\n",
              "      filter: drop-shadow(0px 1px 2px rgba(0, 0, 0, 0.3));\n",
              "      fill: #FFFFFF;\n",
              "    }\n",
              "  </style>\n",
              "\n",
              "    <script>\n",
              "      const buttonEl =\n",
              "        document.querySelector('#df-a76232d0-abf4-4c16-b0f4-2db4e14f213e button.colab-df-convert');\n",
              "      buttonEl.style.display =\n",
              "        google.colab.kernel.accessAllowed ? 'block' : 'none';\n",
              "\n",
              "      async function convertToInteractive(key) {\n",
              "        const element = document.querySelector('#df-a76232d0-abf4-4c16-b0f4-2db4e14f213e');\n",
              "        const dataTable =\n",
              "          await google.colab.kernel.invokeFunction('convertToInteractive',\n",
              "                                                    [key], {});\n",
              "        if (!dataTable) return;\n",
              "\n",
              "        const docLinkHtml = 'Like what you see? Visit the ' +\n",
              "          '<a target=\"_blank\" href=https://colab.research.google.com/notebooks/data_table.ipynb>data table notebook</a>'\n",
              "          + ' to learn more about interactive tables.';\n",
              "        element.innerHTML = '';\n",
              "        dataTable['output_type'] = 'display_data';\n",
              "        await google.colab.output.renderOutput(dataTable, element);\n",
              "        const docLink = document.createElement('div');\n",
              "        docLink.innerHTML = docLinkHtml;\n",
              "        element.appendChild(docLink);\n",
              "      }\n",
              "    </script>\n",
              "  </div>\n",
              "\n",
              "\n",
              "<div id=\"df-ead1d5f5-a1fe-45d0-8886-88ad13c7dbfc\">\n",
              "  <button class=\"colab-df-quickchart\" onclick=\"quickchart('df-ead1d5f5-a1fe-45d0-8886-88ad13c7dbfc')\"\n",
              "            title=\"Suggest charts\"\n",
              "            style=\"display:none;\">\n",
              "\n",
              "<svg xmlns=\"http://www.w3.org/2000/svg\" height=\"24px\"viewBox=\"0 0 24 24\"\n",
              "     width=\"24px\">\n",
              "    <g>\n",
              "        <path d=\"M19 3H5c-1.1 0-2 .9-2 2v14c0 1.1.9 2 2 2h14c1.1 0 2-.9 2-2V5c0-1.1-.9-2-2-2zM9 17H7v-7h2v7zm4 0h-2V7h2v10zm4 0h-2v-4h2v4z\"/>\n",
              "    </g>\n",
              "</svg>\n",
              "  </button>\n",
              "\n",
              "<style>\n",
              "  .colab-df-quickchart {\n",
              "      --bg-color: #E8F0FE;\n",
              "      --fill-color: #1967D2;\n",
              "      --hover-bg-color: #E2EBFA;\n",
              "      --hover-fill-color: #174EA6;\n",
              "      --disabled-fill-color: #AAA;\n",
              "      --disabled-bg-color: #DDD;\n",
              "  }\n",
              "\n",
              "  [theme=dark] .colab-df-quickchart {\n",
              "      --bg-color: #3B4455;\n",
              "      --fill-color: #D2E3FC;\n",
              "      --hover-bg-color: #434B5C;\n",
              "      --hover-fill-color: #FFFFFF;\n",
              "      --disabled-bg-color: #3B4455;\n",
              "      --disabled-fill-color: #666;\n",
              "  }\n",
              "\n",
              "  .colab-df-quickchart {\n",
              "    background-color: var(--bg-color);\n",
              "    border: none;\n",
              "    border-radius: 50%;\n",
              "    cursor: pointer;\n",
              "    display: none;\n",
              "    fill: var(--fill-color);\n",
              "    height: 32px;\n",
              "    padding: 0;\n",
              "    width: 32px;\n",
              "  }\n",
              "\n",
              "  .colab-df-quickchart:hover {\n",
              "    background-color: var(--hover-bg-color);\n",
              "    box-shadow: 0 1px 2px rgba(60, 64, 67, 0.3), 0 1px 3px 1px rgba(60, 64, 67, 0.15);\n",
              "    fill: var(--button-hover-fill-color);\n",
              "  }\n",
              "\n",
              "  .colab-df-quickchart-complete:disabled,\n",
              "  .colab-df-quickchart-complete:disabled:hover {\n",
              "    background-color: var(--disabled-bg-color);\n",
              "    fill: var(--disabled-fill-color);\n",
              "    box-shadow: none;\n",
              "  }\n",
              "\n",
              "  .colab-df-spinner {\n",
              "    border: 2px solid var(--fill-color);\n",
              "    border-color: transparent;\n",
              "    border-bottom-color: var(--fill-color);\n",
              "    animation:\n",
              "      spin 1s steps(1) infinite;\n",
              "  }\n",
              "\n",
              "  @keyframes spin {\n",
              "    0% {\n",
              "      border-color: transparent;\n",
              "      border-bottom-color: var(--fill-color);\n",
              "      border-left-color: var(--fill-color);\n",
              "    }\n",
              "    20% {\n",
              "      border-color: transparent;\n",
              "      border-left-color: var(--fill-color);\n",
              "      border-top-color: var(--fill-color);\n",
              "    }\n",
              "    30% {\n",
              "      border-color: transparent;\n",
              "      border-left-color: var(--fill-color);\n",
              "      border-top-color: var(--fill-color);\n",
              "      border-right-color: var(--fill-color);\n",
              "    }\n",
              "    40% {\n",
              "      border-color: transparent;\n",
              "      border-right-color: var(--fill-color);\n",
              "      border-top-color: var(--fill-color);\n",
              "    }\n",
              "    60% {\n",
              "      border-color: transparent;\n",
              "      border-right-color: var(--fill-color);\n",
              "    }\n",
              "    80% {\n",
              "      border-color: transparent;\n",
              "      border-right-color: var(--fill-color);\n",
              "      border-bottom-color: var(--fill-color);\n",
              "    }\n",
              "    90% {\n",
              "      border-color: transparent;\n",
              "      border-bottom-color: var(--fill-color);\n",
              "    }\n",
              "  }\n",
              "</style>\n",
              "\n",
              "  <script>\n",
              "    async function quickchart(key) {\n",
              "      const quickchartButtonEl =\n",
              "        document.querySelector('#' + key + ' button');\n",
              "      quickchartButtonEl.disabled = true;  // To prevent multiple clicks.\n",
              "      quickchartButtonEl.classList.add('colab-df-spinner');\n",
              "      try {\n",
              "        const charts = await google.colab.kernel.invokeFunction(\n",
              "            'suggestCharts', [key], {});\n",
              "      } catch (error) {\n",
              "        console.error('Error during call to suggestCharts:', error);\n",
              "      }\n",
              "      quickchartButtonEl.classList.remove('colab-df-spinner');\n",
              "      quickchartButtonEl.classList.add('colab-df-quickchart-complete');\n",
              "    }\n",
              "    (() => {\n",
              "      let quickchartButtonEl =\n",
              "        document.querySelector('#df-ead1d5f5-a1fe-45d0-8886-88ad13c7dbfc button');\n",
              "      quickchartButtonEl.style.display =\n",
              "        google.colab.kernel.accessAllowed ? 'block' : 'none';\n",
              "    })();\n",
              "  </script>\n",
              "</div>\n",
              "\n",
              "    </div>\n",
              "  </div>\n"
            ],
            "application/vnd.google.colaboratory.intrinsic+json": {
              "type": "dataframe",
              "variable_name": "data",
              "summary": "{\n  \"name\": \"data\",\n  \"rows\": 5018,\n  \"fields\": [\n    {\n      \"column\": \"id\",\n      \"properties\": {\n        \"dtype\": \"number\",\n        \"std\": 9763397,\n        \"min\": 18198,\n        \"max\": 36484363,\n        \"num_unique_values\": 4999,\n        \"samples\": [\n          30326645,\n          8459744,\n          32136644\n        ],\n        \"semantic_type\": \"\",\n        \"description\": \"\"\n      }\n    },\n    {\n      \"column\": \"name\",\n      \"properties\": {\n        \"dtype\": \"string\",\n        \"num_unique_values\": 4917,\n        \"samples\": [\n          \"Spacious Room Near Public Transport and shopping\",\n          \"Steps away from Laguardia airport\",\n          \"Futon to crash on New Year in NY\"\n        ],\n        \"semantic_type\": \"\",\n        \"description\": \"\"\n      }\n    },\n    {\n      \"column\": \"host_id\",\n      \"properties\": {\n        \"dtype\": \"number\",\n        \"std\": 84937788,\n        \"min\": 3415,\n        \"max\": 274225617,\n        \"num_unique_values\": 3285,\n        \"samples\": [\n          182488531,\n          163621622,\n          106692652\n        ],\n        \"semantic_type\": \"\",\n        \"description\": \"\"\n      }\n    },\n    {\n      \"column\": \"host_name\",\n      \"properties\": {\n        \"dtype\": \"category\",\n        \"num_unique_values\": 2138,\n        \"samples\": [\n          \"Marii\",\n          \"David Y\",\n          \"Cen\"\n        ],\n        \"semantic_type\": \"\",\n        \"description\": \"\"\n      }\n    },\n    {\n      \"column\": \"neighbourhood_group\",\n      \"properties\": {\n        \"dtype\": \"category\",\n        \"num_unique_values\": 6,\n        \"samples\": [\n          \"Bronx\",\n          \"Bronxx\",\n          \"QUeens\"\n        ],\n        \"semantic_type\": \"\",\n        \"description\": \"\"\n      }\n    },\n    {\n      \"column\": \"neighbourhood\",\n      \"properties\": {\n        \"dtype\": \"category\",\n        \"num_unique_values\": 98,\n        \"samples\": [\n          \"Rego Park\",\n          \"Maspeth\",\n          \"West Farms\"\n        ],\n        \"semantic_type\": \"\",\n        \"description\": \"\"\n      }\n    },\n    {\n      \"column\": \"latitude\",\n      \"properties\": {\n        \"dtype\": \"number\",\n        \"std\": 0.06735850647194523,\n        \"min\": 40.56546,\n        \"max\": 40.91306,\n        \"num_unique_values\": 4342,\n        \"samples\": [\n          40.74061,\n          40.70719,\n          40.76605\n        ],\n        \"semantic_type\": \"\",\n        \"description\": \"\"\n      }\n    },\n    {\n      \"column\": \"longitude\",\n      \"properties\": {\n        \"dtype\": \"number\",\n        \"std\": 0.048488815253204254,\n        \"min\": -73.90827,\n        \"max\": -73.71299,\n        \"num_unique_values\": 4014,\n        \"samples\": [\n          -73.87915,\n          -73.79775,\n          -73.7365\n        ],\n        \"semantic_type\": \"\",\n        \"description\": \"\"\n      }\n    },\n    {\n      \"column\": \"room_type\",\n      \"properties\": {\n        \"dtype\": \"category\",\n        \"num_unique_values\": 3,\n        \"samples\": [\n          \"Shared room\",\n          \"Private room\",\n          \"Entire home/apt\"\n        ],\n        \"semantic_type\": \"\",\n        \"description\": \"\"\n      }\n    },\n    {\n      \"column\": \"price\",\n      \"properties\": {\n        \"dtype\": \"number\",\n        \"std\": 183.56085084084725,\n        \"min\": 10.0,\n        \"max\": 10000.0,\n        \"num_unique_values\": 245,\n        \"samples\": [\n          69.0,\n          34.0,\n          124.0\n        ],\n        \"semantic_type\": \"\",\n        \"description\": \"\"\n      }\n    },\n    {\n      \"column\": \"minimum_nights\",\n      \"properties\": {\n        \"dtype\": \"number\",\n        \"std\": 71,\n        \"min\": -1,\n        \"max\": 5000,\n        \"num_unique_values\": 44,\n        \"samples\": [\n          26,\n          85,\n          31\n        ],\n        \"semantic_type\": \"\",\n        \"description\": \"\"\n      }\n    },\n    {\n      \"column\": \"number_of_reviews\",\n      \"properties\": {\n        \"dtype\": \"number\",\n        \"std\": 56.86582699150593,\n        \"min\": 1.0,\n        \"max\": 629.0,\n        \"num_unique_values\": 269,\n        \"samples\": [\n          31.0,\n          117.0,\n          80.0\n        ],\n        \"semantic_type\": \"\",\n        \"description\": \"\"\n      }\n    },\n    {\n      \"column\": \"last_review\",\n      \"properties\": {\n        \"dtype\": \"date\",\n        \"min\": \"2011-09-19 00:00:00\",\n        \"max\": \"2019-07-08 00:00:00\",\n        \"num_unique_values\": 609,\n        \"samples\": [\n          \"5/30/2019\",\n          \"2/1/2019\",\n          \"11/13/2018\"\n        ],\n        \"semantic_type\": \"\",\n        \"description\": \"\"\n      }\n    },\n    {\n      \"column\": \"reviews_per_month\",\n      \"properties\": {\n        \"dtype\": \"number\",\n        \"std\": 2.2758250759178495,\n        \"min\": 0.01,\n        \"max\": 20.94,\n        \"num_unique_values\": 740,\n        \"samples\": [\n          2.57,\n          4.96,\n          4.14\n        ],\n        \"semantic_type\": \"\",\n        \"description\": \"\"\n      }\n    },\n    {\n      \"column\": \"availability_365\",\n      \"properties\": {\n        \"dtype\": \"number\",\n        \"std\": 134,\n        \"min\": 0,\n        \"max\": 365,\n        \"num_unique_values\": 362,\n        \"samples\": [\n          94,\n          113,\n          83\n        ],\n        \"semantic_type\": \"\",\n        \"description\": \"\"\n      }\n    }\n  ]\n}"
            }
          },
          "metadata": {},
          "execution_count": 7
        }
      ]
    },
    {
      "cell_type": "markdown",
      "source": [
        "# 2. Pengecekan Missing Value"
      ],
      "metadata": {
        "id": "2oBqsaYzSrrD"
      }
    },
    {
      "cell_type": "code",
      "source": [
        "#Informasi dalam csv\n",
        "data.info()"
      ],
      "metadata": {
        "colab": {
          "base_uri": "https://localhost:8080/"
        },
        "id": "wVXTrpx6SvU3",
        "outputId": "69096581-2c5a-44bf-8b52-fce17185617a"
      },
      "execution_count": 8,
      "outputs": [
        {
          "output_type": "stream",
          "name": "stdout",
          "text": [
            "<class 'pandas.core.frame.DataFrame'>\n",
            "RangeIndex: 5018 entries, 0 to 5017\n",
            "Data columns (total 15 columns):\n",
            " #   Column               Non-Null Count  Dtype  \n",
            "---  ------               --------------  -----  \n",
            " 0   id                   5018 non-null   int64  \n",
            " 1   name                 5017 non-null   object \n",
            " 2   host_id              5018 non-null   int64  \n",
            " 3   host_name            5017 non-null   object \n",
            " 4   neighbourhood_group  5018 non-null   object \n",
            " 5   neighbourhood        5018 non-null   object \n",
            " 6   latitude             5018 non-null   float64\n",
            " 7   longitude            5018 non-null   float64\n",
            " 8   room_type            5018 non-null   object \n",
            " 9   price                4966 non-null   float64\n",
            " 10  minimum_nights       5018 non-null   int64  \n",
            " 11  number_of_reviews    4143 non-null   float64\n",
            " 12  last_review          4143 non-null   object \n",
            " 13  reviews_per_month    4143 non-null   float64\n",
            " 14  availability_365     5018 non-null   int64  \n",
            "dtypes: float64(5), int64(4), object(6)\n",
            "memory usage: 588.2+ KB\n"
          ]
        }
      ]
    },
    {
      "cell_type": "markdown",
      "source": [
        "Dalam kolom last_review berisi data tanggal namun tipe datanya object atau string. Mari kita sesuaikan menjadi tipe data date"
      ],
      "metadata": {
        "id": "9CrPlQN9FiGD"
      }
    },
    {
      "cell_type": "code",
      "source": [
        "data['last_review'] = pd.to_datetime(data['last_review'])"
      ],
      "metadata": {
        "id": "dpySVyFIEqak"
      },
      "execution_count": 11,
      "outputs": []
    },
    {
      "cell_type": "code",
      "source": [
        "data.info()"
      ],
      "metadata": {
        "colab": {
          "base_uri": "https://localhost:8080/"
        },
        "id": "F_VNKdhgExau",
        "outputId": "701273ae-8a8a-4cf1-9697-96aeae3ac436"
      },
      "execution_count": 12,
      "outputs": [
        {
          "output_type": "stream",
          "name": "stdout",
          "text": [
            "<class 'pandas.core.frame.DataFrame'>\n",
            "RangeIndex: 5018 entries, 0 to 5017\n",
            "Data columns (total 15 columns):\n",
            " #   Column               Non-Null Count  Dtype         \n",
            "---  ------               --------------  -----         \n",
            " 0   id                   5018 non-null   int64         \n",
            " 1   name                 5017 non-null   object        \n",
            " 2   host_id              5018 non-null   int64         \n",
            " 3   host_name            5017 non-null   object        \n",
            " 4   neighbourhood_group  5018 non-null   object        \n",
            " 5   neighbourhood        5018 non-null   object        \n",
            " 6   latitude             5018 non-null   float64       \n",
            " 7   longitude            5018 non-null   float64       \n",
            " 8   room_type            5018 non-null   object        \n",
            " 9   price                4966 non-null   float64       \n",
            " 10  minimum_nights       5018 non-null   int64         \n",
            " 11  number_of_reviews    4143 non-null   float64       \n",
            " 12  last_review          4143 non-null   datetime64[ns]\n",
            " 13  reviews_per_month    4143 non-null   float64       \n",
            " 14  availability_365     5018 non-null   int64         \n",
            "dtypes: datetime64[ns](1), float64(5), int64(4), object(5)\n",
            "memory usage: 588.2+ KB\n"
          ]
        }
      ]
    },
    {
      "cell_type": "markdown",
      "source": [
        "Ternyata ada 6 kolom yang memiliki missing values\n",
        "\n"
      ],
      "metadata": {
        "id": "wCVZIArXdlEC"
      }
    },
    {
      "cell_type": "code",
      "source": [
        "#Pengecekan missing values menggunakan isna() atau isnull()\n",
        "data.isna().sum()"
      ],
      "metadata": {
        "colab": {
          "base_uri": "https://localhost:8080/"
        },
        "id": "XduARS1HS9oD",
        "outputId": "f50131b0-b32f-49e1-c4b2-18bce851d99f"
      },
      "execution_count": 14,
      "outputs": [
        {
          "output_type": "execute_result",
          "data": {
            "text/plain": [
              "id                       0\n",
              "name                     1\n",
              "host_id                  0\n",
              "host_name                1\n",
              "neighbourhood_group      0\n",
              "neighbourhood            0\n",
              "latitude                 0\n",
              "longitude                0\n",
              "room_type                0\n",
              "price                   52\n",
              "minimum_nights           0\n",
              "number_of_reviews      875\n",
              "last_review            875\n",
              "reviews_per_month      875\n",
              "availability_365         0\n",
              "dtype: int64"
            ]
          },
          "metadata": {},
          "execution_count": 14
        }
      ]
    },
    {
      "cell_type": "code",
      "source": [
        "#Hitung persentase missing values\n",
        "(data.isna().sum() / data.shape[0]) * 100"
      ],
      "metadata": {
        "colab": {
          "base_uri": "https://localhost:8080/"
        },
        "id": "cvQJJ2aqTEVs",
        "outputId": "b9e04253-138d-45cc-828c-4000810477ca"
      },
      "execution_count": 15,
      "outputs": [
        {
          "output_type": "execute_result",
          "data": {
            "text/plain": [
              "id                      0.000000\n",
              "name                    0.019928\n",
              "host_id                 0.000000\n",
              "host_name               0.019928\n",
              "neighbourhood_group     0.000000\n",
              "neighbourhood           0.000000\n",
              "latitude                0.000000\n",
              "longitude               0.000000\n",
              "room_type               0.000000\n",
              "price                   1.036269\n",
              "minimum_nights          0.000000\n",
              "number_of_reviews      17.437226\n",
              "last_review            17.437226\n",
              "reviews_per_month      17.437226\n",
              "availability_365        0.000000\n",
              "dtype: float64"
            ]
          },
          "metadata": {},
          "execution_count": 15
        }
      ]
    },
    {
      "cell_type": "markdown",
      "source": [
        "Untuk nilai null pada kolom name tidak berada dalam baris yang sama dengan nilai null pada host_name"
      ],
      "metadata": {
        "id": "wSGl5fpYel0N"
      }
    },
    {
      "cell_type": "code",
      "source": [
        "#mari kita investigasi lebih lanjut\n",
        "data[data['name'].isna()].head(10)"
      ],
      "metadata": {
        "colab": {
          "base_uri": "https://localhost:8080/",
          "height": 118
        },
        "id": "96TkOumxWl6S",
        "outputId": "93b5bdbb-0685-4b42-88a7-3f6ae1d83a5f"
      },
      "execution_count": 16,
      "outputs": [
        {
          "output_type": "execute_result",
          "data": {
            "text/plain": [
              "           id name   host_id host_name neighbourhood_group neighbourhood  \\\n",
              "120  12988898  NaN  71552588    Andrea               Bronx       Fordham   \n",
              "\n",
              "     latitude  longitude    room_type  price  minimum_nights  \\\n",
              "120  40.86032  -73.88493  Shared room  130.0               1   \n",
              "\n",
              "     number_of_reviews last_review  reviews_per_month  availability_365  \n",
              "120                NaN         NaT                NaN               365  "
            ],
            "text/html": [
              "\n",
              "  <div id=\"df-13717aff-81c3-4df1-9c34-e93bb42811e4\" class=\"colab-df-container\">\n",
              "    <div>\n",
              "<style scoped>\n",
              "    .dataframe tbody tr th:only-of-type {\n",
              "        vertical-align: middle;\n",
              "    }\n",
              "\n",
              "    .dataframe tbody tr th {\n",
              "        vertical-align: top;\n",
              "    }\n",
              "\n",
              "    .dataframe thead th {\n",
              "        text-align: right;\n",
              "    }\n",
              "</style>\n",
              "<table border=\"1\" class=\"dataframe\">\n",
              "  <thead>\n",
              "    <tr style=\"text-align: right;\">\n",
              "      <th></th>\n",
              "      <th>id</th>\n",
              "      <th>name</th>\n",
              "      <th>host_id</th>\n",
              "      <th>host_name</th>\n",
              "      <th>neighbourhood_group</th>\n",
              "      <th>neighbourhood</th>\n",
              "      <th>latitude</th>\n",
              "      <th>longitude</th>\n",
              "      <th>room_type</th>\n",
              "      <th>price</th>\n",
              "      <th>minimum_nights</th>\n",
              "      <th>number_of_reviews</th>\n",
              "      <th>last_review</th>\n",
              "      <th>reviews_per_month</th>\n",
              "      <th>availability_365</th>\n",
              "    </tr>\n",
              "  </thead>\n",
              "  <tbody>\n",
              "    <tr>\n",
              "      <th>120</th>\n",
              "      <td>12988898</td>\n",
              "      <td>NaN</td>\n",
              "      <td>71552588</td>\n",
              "      <td>Andrea</td>\n",
              "      <td>Bronx</td>\n",
              "      <td>Fordham</td>\n",
              "      <td>40.86032</td>\n",
              "      <td>-73.88493</td>\n",
              "      <td>Shared room</td>\n",
              "      <td>130.0</td>\n",
              "      <td>1</td>\n",
              "      <td>NaN</td>\n",
              "      <td>NaT</td>\n",
              "      <td>NaN</td>\n",
              "      <td>365</td>\n",
              "    </tr>\n",
              "  </tbody>\n",
              "</table>\n",
              "</div>\n",
              "    <div class=\"colab-df-buttons\">\n",
              "\n",
              "  <div class=\"colab-df-container\">\n",
              "    <button class=\"colab-df-convert\" onclick=\"convertToInteractive('df-13717aff-81c3-4df1-9c34-e93bb42811e4')\"\n",
              "            title=\"Convert this dataframe to an interactive table.\"\n",
              "            style=\"display:none;\">\n",
              "\n",
              "  <svg xmlns=\"http://www.w3.org/2000/svg\" height=\"24px\" viewBox=\"0 -960 960 960\">\n",
              "    <path d=\"M120-120v-720h720v720H120Zm60-500h600v-160H180v160Zm220 220h160v-160H400v160Zm0 220h160v-160H400v160ZM180-400h160v-160H180v160Zm440 0h160v-160H620v160ZM180-180h160v-160H180v160Zm440 0h160v-160H620v160Z\"/>\n",
              "  </svg>\n",
              "    </button>\n",
              "\n",
              "  <style>\n",
              "    .colab-df-container {\n",
              "      display:flex;\n",
              "      gap: 12px;\n",
              "    }\n",
              "\n",
              "    .colab-df-convert {\n",
              "      background-color: #E8F0FE;\n",
              "      border: none;\n",
              "      border-radius: 50%;\n",
              "      cursor: pointer;\n",
              "      display: none;\n",
              "      fill: #1967D2;\n",
              "      height: 32px;\n",
              "      padding: 0 0 0 0;\n",
              "      width: 32px;\n",
              "    }\n",
              "\n",
              "    .colab-df-convert:hover {\n",
              "      background-color: #E2EBFA;\n",
              "      box-shadow: 0px 1px 2px rgba(60, 64, 67, 0.3), 0px 1px 3px 1px rgba(60, 64, 67, 0.15);\n",
              "      fill: #174EA6;\n",
              "    }\n",
              "\n",
              "    .colab-df-buttons div {\n",
              "      margin-bottom: 4px;\n",
              "    }\n",
              "\n",
              "    [theme=dark] .colab-df-convert {\n",
              "      background-color: #3B4455;\n",
              "      fill: #D2E3FC;\n",
              "    }\n",
              "\n",
              "    [theme=dark] .colab-df-convert:hover {\n",
              "      background-color: #434B5C;\n",
              "      box-shadow: 0px 1px 3px 1px rgba(0, 0, 0, 0.15);\n",
              "      filter: drop-shadow(0px 1px 2px rgba(0, 0, 0, 0.3));\n",
              "      fill: #FFFFFF;\n",
              "    }\n",
              "  </style>\n",
              "\n",
              "    <script>\n",
              "      const buttonEl =\n",
              "        document.querySelector('#df-13717aff-81c3-4df1-9c34-e93bb42811e4 button.colab-df-convert');\n",
              "      buttonEl.style.display =\n",
              "        google.colab.kernel.accessAllowed ? 'block' : 'none';\n",
              "\n",
              "      async function convertToInteractive(key) {\n",
              "        const element = document.querySelector('#df-13717aff-81c3-4df1-9c34-e93bb42811e4');\n",
              "        const dataTable =\n",
              "          await google.colab.kernel.invokeFunction('convertToInteractive',\n",
              "                                                    [key], {});\n",
              "        if (!dataTable) return;\n",
              "\n",
              "        const docLinkHtml = 'Like what you see? Visit the ' +\n",
              "          '<a target=\"_blank\" href=https://colab.research.google.com/notebooks/data_table.ipynb>data table notebook</a>'\n",
              "          + ' to learn more about interactive tables.';\n",
              "        element.innerHTML = '';\n",
              "        dataTable['output_type'] = 'display_data';\n",
              "        await google.colab.output.renderOutput(dataTable, element);\n",
              "        const docLink = document.createElement('div');\n",
              "        docLink.innerHTML = docLinkHtml;\n",
              "        element.appendChild(docLink);\n",
              "      }\n",
              "    </script>\n",
              "  </div>\n",
              "\n",
              "\n",
              "    </div>\n",
              "  </div>\n"
            ],
            "application/vnd.google.colaboratory.intrinsic+json": {
              "type": "dataframe",
              "repr_error": "0"
            }
          },
          "metadata": {},
          "execution_count": 16
        }
      ]
    },
    {
      "cell_type": "code",
      "source": [
        "#investigasi number_of_reviews\n",
        "data[data['number_of_reviews'].isna()].head(10)"
      ],
      "metadata": {
        "colab": {
          "base_uri": "https://localhost:8080/",
          "height": 782
        },
        "id": "-QSzfIbZewJG",
        "outputId": "21cdff32-ce2f-48a7-83ff-cb8c0b8f7a5e"
      },
      "execution_count": 17,
      "outputs": [
        {
          "output_type": "execute_result",
          "data": {
            "text/plain": [
              "         id                                             name    host_id  \\\n",
              "0  34229869                           Cozy Living Room Futon   27537930   \n",
              "1  31568673         Large private room w/ 2 built-in closets  236631469   \n",
              "2  36199363  Furnished room  for rent in Bronx SINGLE FEMALE  272247972   \n",
              "3  34180340                            Sunny & Spacious Room  181233778   \n",
              "4  32364762                                            Bronx   19303369   \n",
              "5  19054683                 Fully-furnished modern apartment   97907084   \n",
              "6  36243183                         Spacious private room #2   35783912   \n",
              "7  33528562     Private, warm & inviting contemporary space.  252641467   \n",
              "8  18442048                          Clean-N-Comfy Bronx Pad   25385574   \n",
              "9  36243240                         spacious private room #3   35783912   \n",
              "\n",
              "    host_name neighbourhood_group   neighbourhood  latitude  longitude  \\\n",
              "0     Preston               Bronx  Pelham Gardens  40.86209  -73.84667   \n",
              "1      Paloma              Bronxx  Williamsbridge  40.88449  -73.86227   \n",
              "2      Kadeen              Bronxx       Olinville  40.88116  -73.86547   \n",
              "3      Aishah              Bronxx         Belmont  40.85595  -73.88519   \n",
              "4      Hiroki              Bronxx     Kingsbridge  40.88474  -73.90321   \n",
              "5         Kim              Bronxx       Wakefield  40.90281  -73.85201   \n",
              "6    Pi & Leo              Bronxx         Fordham  40.86264  -73.89139   \n",
              "7  Antoinette               Bronx       Wakefield  40.88491  -73.85484   \n",
              "8         Che               Bronx        Allerton  40.86718  -73.86235   \n",
              "9    Pi & Leo               Bronx         Fordham  40.86263  -73.89088   \n",
              "\n",
              "         room_type  price  minimum_nights  number_of_reviews last_review  \\\n",
              "0      Shared room   20.0               1                NaN         NaT   \n",
              "1     Private room   25.0              30                NaN         NaT   \n",
              "2      Shared room   25.0              90                NaN         NaT   \n",
              "3     Private room   27.0              30                NaN         NaT   \n",
              "4     Private room   27.0              30                NaN         NaT   \n",
              "5  Entire home/apt   28.0               1                NaN         NaT   \n",
              "6     Private room   29.0               2                NaN         NaT   \n",
              "7     Private room   33.0               1                NaN         NaT   \n",
              "8     Private room   33.0               1                NaN         NaT   \n",
              "9     Private room   33.0               2                NaN         NaT   \n",
              "\n",
              "   reviews_per_month  availability_365  \n",
              "0                NaN                 5  \n",
              "1                NaN                85  \n",
              "2                NaN               190  \n",
              "3                NaN                68  \n",
              "4                NaN                 0  \n",
              "5                NaN                 0  \n",
              "6                NaN                81  \n",
              "7                NaN               116  \n",
              "8                NaN               179  \n",
              "9                NaN                84  "
            ],
            "text/html": [
              "\n",
              "  <div id=\"df-6faa7c02-80d4-4000-b5f5-228c75655f9c\" class=\"colab-df-container\">\n",
              "    <div>\n",
              "<style scoped>\n",
              "    .dataframe tbody tr th:only-of-type {\n",
              "        vertical-align: middle;\n",
              "    }\n",
              "\n",
              "    .dataframe tbody tr th {\n",
              "        vertical-align: top;\n",
              "    }\n",
              "\n",
              "    .dataframe thead th {\n",
              "        text-align: right;\n",
              "    }\n",
              "</style>\n",
              "<table border=\"1\" class=\"dataframe\">\n",
              "  <thead>\n",
              "    <tr style=\"text-align: right;\">\n",
              "      <th></th>\n",
              "      <th>id</th>\n",
              "      <th>name</th>\n",
              "      <th>host_id</th>\n",
              "      <th>host_name</th>\n",
              "      <th>neighbourhood_group</th>\n",
              "      <th>neighbourhood</th>\n",
              "      <th>latitude</th>\n",
              "      <th>longitude</th>\n",
              "      <th>room_type</th>\n",
              "      <th>price</th>\n",
              "      <th>minimum_nights</th>\n",
              "      <th>number_of_reviews</th>\n",
              "      <th>last_review</th>\n",
              "      <th>reviews_per_month</th>\n",
              "      <th>availability_365</th>\n",
              "    </tr>\n",
              "  </thead>\n",
              "  <tbody>\n",
              "    <tr>\n",
              "      <th>0</th>\n",
              "      <td>34229869</td>\n",
              "      <td>Cozy Living Room Futon</td>\n",
              "      <td>27537930</td>\n",
              "      <td>Preston</td>\n",
              "      <td>Bronx</td>\n",
              "      <td>Pelham Gardens</td>\n",
              "      <td>40.86209</td>\n",
              "      <td>-73.84667</td>\n",
              "      <td>Shared room</td>\n",
              "      <td>20.0</td>\n",
              "      <td>1</td>\n",
              "      <td>NaN</td>\n",
              "      <td>NaT</td>\n",
              "      <td>NaN</td>\n",
              "      <td>5</td>\n",
              "    </tr>\n",
              "    <tr>\n",
              "      <th>1</th>\n",
              "      <td>31568673</td>\n",
              "      <td>Large private room w/ 2 built-in closets</td>\n",
              "      <td>236631469</td>\n",
              "      <td>Paloma</td>\n",
              "      <td>Bronxx</td>\n",
              "      <td>Williamsbridge</td>\n",
              "      <td>40.88449</td>\n",
              "      <td>-73.86227</td>\n",
              "      <td>Private room</td>\n",
              "      <td>25.0</td>\n",
              "      <td>30</td>\n",
              "      <td>NaN</td>\n",
              "      <td>NaT</td>\n",
              "      <td>NaN</td>\n",
              "      <td>85</td>\n",
              "    </tr>\n",
              "    <tr>\n",
              "      <th>2</th>\n",
              "      <td>36199363</td>\n",
              "      <td>Furnished room  for rent in Bronx SINGLE FEMALE</td>\n",
              "      <td>272247972</td>\n",
              "      <td>Kadeen</td>\n",
              "      <td>Bronxx</td>\n",
              "      <td>Olinville</td>\n",
              "      <td>40.88116</td>\n",
              "      <td>-73.86547</td>\n",
              "      <td>Shared room</td>\n",
              "      <td>25.0</td>\n",
              "      <td>90</td>\n",
              "      <td>NaN</td>\n",
              "      <td>NaT</td>\n",
              "      <td>NaN</td>\n",
              "      <td>190</td>\n",
              "    </tr>\n",
              "    <tr>\n",
              "      <th>3</th>\n",
              "      <td>34180340</td>\n",
              "      <td>Sunny &amp; Spacious Room</td>\n",
              "      <td>181233778</td>\n",
              "      <td>Aishah</td>\n",
              "      <td>Bronxx</td>\n",
              "      <td>Belmont</td>\n",
              "      <td>40.85595</td>\n",
              "      <td>-73.88519</td>\n",
              "      <td>Private room</td>\n",
              "      <td>27.0</td>\n",
              "      <td>30</td>\n",
              "      <td>NaN</td>\n",
              "      <td>NaT</td>\n",
              "      <td>NaN</td>\n",
              "      <td>68</td>\n",
              "    </tr>\n",
              "    <tr>\n",
              "      <th>4</th>\n",
              "      <td>32364762</td>\n",
              "      <td>Bronx</td>\n",
              "      <td>19303369</td>\n",
              "      <td>Hiroki</td>\n",
              "      <td>Bronxx</td>\n",
              "      <td>Kingsbridge</td>\n",
              "      <td>40.88474</td>\n",
              "      <td>-73.90321</td>\n",
              "      <td>Private room</td>\n",
              "      <td>27.0</td>\n",
              "      <td>30</td>\n",
              "      <td>NaN</td>\n",
              "      <td>NaT</td>\n",
              "      <td>NaN</td>\n",
              "      <td>0</td>\n",
              "    </tr>\n",
              "    <tr>\n",
              "      <th>5</th>\n",
              "      <td>19054683</td>\n",
              "      <td>Fully-furnished modern apartment</td>\n",
              "      <td>97907084</td>\n",
              "      <td>Kim</td>\n",
              "      <td>Bronxx</td>\n",
              "      <td>Wakefield</td>\n",
              "      <td>40.90281</td>\n",
              "      <td>-73.85201</td>\n",
              "      <td>Entire home/apt</td>\n",
              "      <td>28.0</td>\n",
              "      <td>1</td>\n",
              "      <td>NaN</td>\n",
              "      <td>NaT</td>\n",
              "      <td>NaN</td>\n",
              "      <td>0</td>\n",
              "    </tr>\n",
              "    <tr>\n",
              "      <th>6</th>\n",
              "      <td>36243183</td>\n",
              "      <td>Spacious private room #2</td>\n",
              "      <td>35783912</td>\n",
              "      <td>Pi &amp; Leo</td>\n",
              "      <td>Bronxx</td>\n",
              "      <td>Fordham</td>\n",
              "      <td>40.86264</td>\n",
              "      <td>-73.89139</td>\n",
              "      <td>Private room</td>\n",
              "      <td>29.0</td>\n",
              "      <td>2</td>\n",
              "      <td>NaN</td>\n",
              "      <td>NaT</td>\n",
              "      <td>NaN</td>\n",
              "      <td>81</td>\n",
              "    </tr>\n",
              "    <tr>\n",
              "      <th>7</th>\n",
              "      <td>33528562</td>\n",
              "      <td>Private, warm &amp; inviting contemporary space.</td>\n",
              "      <td>252641467</td>\n",
              "      <td>Antoinette</td>\n",
              "      <td>Bronx</td>\n",
              "      <td>Wakefield</td>\n",
              "      <td>40.88491</td>\n",
              "      <td>-73.85484</td>\n",
              "      <td>Private room</td>\n",
              "      <td>33.0</td>\n",
              "      <td>1</td>\n",
              "      <td>NaN</td>\n",
              "      <td>NaT</td>\n",
              "      <td>NaN</td>\n",
              "      <td>116</td>\n",
              "    </tr>\n",
              "    <tr>\n",
              "      <th>8</th>\n",
              "      <td>18442048</td>\n",
              "      <td>Clean-N-Comfy Bronx Pad</td>\n",
              "      <td>25385574</td>\n",
              "      <td>Che</td>\n",
              "      <td>Bronx</td>\n",
              "      <td>Allerton</td>\n",
              "      <td>40.86718</td>\n",
              "      <td>-73.86235</td>\n",
              "      <td>Private room</td>\n",
              "      <td>33.0</td>\n",
              "      <td>1</td>\n",
              "      <td>NaN</td>\n",
              "      <td>NaT</td>\n",
              "      <td>NaN</td>\n",
              "      <td>179</td>\n",
              "    </tr>\n",
              "    <tr>\n",
              "      <th>9</th>\n",
              "      <td>36243240</td>\n",
              "      <td>spacious private room #3</td>\n",
              "      <td>35783912</td>\n",
              "      <td>Pi &amp; Leo</td>\n",
              "      <td>Bronx</td>\n",
              "      <td>Fordham</td>\n",
              "      <td>40.86263</td>\n",
              "      <td>-73.89088</td>\n",
              "      <td>Private room</td>\n",
              "      <td>33.0</td>\n",
              "      <td>2</td>\n",
              "      <td>NaN</td>\n",
              "      <td>NaT</td>\n",
              "      <td>NaN</td>\n",
              "      <td>84</td>\n",
              "    </tr>\n",
              "  </tbody>\n",
              "</table>\n",
              "</div>\n",
              "    <div class=\"colab-df-buttons\">\n",
              "\n",
              "  <div class=\"colab-df-container\">\n",
              "    <button class=\"colab-df-convert\" onclick=\"convertToInteractive('df-6faa7c02-80d4-4000-b5f5-228c75655f9c')\"\n",
              "            title=\"Convert this dataframe to an interactive table.\"\n",
              "            style=\"display:none;\">\n",
              "\n",
              "  <svg xmlns=\"http://www.w3.org/2000/svg\" height=\"24px\" viewBox=\"0 -960 960 960\">\n",
              "    <path d=\"M120-120v-720h720v720H120Zm60-500h600v-160H180v160Zm220 220h160v-160H400v160Zm0 220h160v-160H400v160ZM180-400h160v-160H180v160Zm440 0h160v-160H620v160ZM180-180h160v-160H180v160Zm440 0h160v-160H620v160Z\"/>\n",
              "  </svg>\n",
              "    </button>\n",
              "\n",
              "  <style>\n",
              "    .colab-df-container {\n",
              "      display:flex;\n",
              "      gap: 12px;\n",
              "    }\n",
              "\n",
              "    .colab-df-convert {\n",
              "      background-color: #E8F0FE;\n",
              "      border: none;\n",
              "      border-radius: 50%;\n",
              "      cursor: pointer;\n",
              "      display: none;\n",
              "      fill: #1967D2;\n",
              "      height: 32px;\n",
              "      padding: 0 0 0 0;\n",
              "      width: 32px;\n",
              "    }\n",
              "\n",
              "    .colab-df-convert:hover {\n",
              "      background-color: #E2EBFA;\n",
              "      box-shadow: 0px 1px 2px rgba(60, 64, 67, 0.3), 0px 1px 3px 1px rgba(60, 64, 67, 0.15);\n",
              "      fill: #174EA6;\n",
              "    }\n",
              "\n",
              "    .colab-df-buttons div {\n",
              "      margin-bottom: 4px;\n",
              "    }\n",
              "\n",
              "    [theme=dark] .colab-df-convert {\n",
              "      background-color: #3B4455;\n",
              "      fill: #D2E3FC;\n",
              "    }\n",
              "\n",
              "    [theme=dark] .colab-df-convert:hover {\n",
              "      background-color: #434B5C;\n",
              "      box-shadow: 0px 1px 3px 1px rgba(0, 0, 0, 0.15);\n",
              "      filter: drop-shadow(0px 1px 2px rgba(0, 0, 0, 0.3));\n",
              "      fill: #FFFFFF;\n",
              "    }\n",
              "  </style>\n",
              "\n",
              "    <script>\n",
              "      const buttonEl =\n",
              "        document.querySelector('#df-6faa7c02-80d4-4000-b5f5-228c75655f9c button.colab-df-convert');\n",
              "      buttonEl.style.display =\n",
              "        google.colab.kernel.accessAllowed ? 'block' : 'none';\n",
              "\n",
              "      async function convertToInteractive(key) {\n",
              "        const element = document.querySelector('#df-6faa7c02-80d4-4000-b5f5-228c75655f9c');\n",
              "        const dataTable =\n",
              "          await google.colab.kernel.invokeFunction('convertToInteractive',\n",
              "                                                    [key], {});\n",
              "        if (!dataTable) return;\n",
              "\n",
              "        const docLinkHtml = 'Like what you see? Visit the ' +\n",
              "          '<a target=\"_blank\" href=https://colab.research.google.com/notebooks/data_table.ipynb>data table notebook</a>'\n",
              "          + ' to learn more about interactive tables.';\n",
              "        element.innerHTML = '';\n",
              "        dataTable['output_type'] = 'display_data';\n",
              "        await google.colab.output.renderOutput(dataTable, element);\n",
              "        const docLink = document.createElement('div');\n",
              "        docLink.innerHTML = docLinkHtml;\n",
              "        element.appendChild(docLink);\n",
              "      }\n",
              "    </script>\n",
              "  </div>\n",
              "\n",
              "\n",
              "<div id=\"df-07e54378-30b8-4e9c-98c6-c4332797ab70\">\n",
              "  <button class=\"colab-df-quickchart\" onclick=\"quickchart('df-07e54378-30b8-4e9c-98c6-c4332797ab70')\"\n",
              "            title=\"Suggest charts\"\n",
              "            style=\"display:none;\">\n",
              "\n",
              "<svg xmlns=\"http://www.w3.org/2000/svg\" height=\"24px\"viewBox=\"0 0 24 24\"\n",
              "     width=\"24px\">\n",
              "    <g>\n",
              "        <path d=\"M19 3H5c-1.1 0-2 .9-2 2v14c0 1.1.9 2 2 2h14c1.1 0 2-.9 2-2V5c0-1.1-.9-2-2-2zM9 17H7v-7h2v7zm4 0h-2V7h2v10zm4 0h-2v-4h2v4z\"/>\n",
              "    </g>\n",
              "</svg>\n",
              "  </button>\n",
              "\n",
              "<style>\n",
              "  .colab-df-quickchart {\n",
              "      --bg-color: #E8F0FE;\n",
              "      --fill-color: #1967D2;\n",
              "      --hover-bg-color: #E2EBFA;\n",
              "      --hover-fill-color: #174EA6;\n",
              "      --disabled-fill-color: #AAA;\n",
              "      --disabled-bg-color: #DDD;\n",
              "  }\n",
              "\n",
              "  [theme=dark] .colab-df-quickchart {\n",
              "      --bg-color: #3B4455;\n",
              "      --fill-color: #D2E3FC;\n",
              "      --hover-bg-color: #434B5C;\n",
              "      --hover-fill-color: #FFFFFF;\n",
              "      --disabled-bg-color: #3B4455;\n",
              "      --disabled-fill-color: #666;\n",
              "  }\n",
              "\n",
              "  .colab-df-quickchart {\n",
              "    background-color: var(--bg-color);\n",
              "    border: none;\n",
              "    border-radius: 50%;\n",
              "    cursor: pointer;\n",
              "    display: none;\n",
              "    fill: var(--fill-color);\n",
              "    height: 32px;\n",
              "    padding: 0;\n",
              "    width: 32px;\n",
              "  }\n",
              "\n",
              "  .colab-df-quickchart:hover {\n",
              "    background-color: var(--hover-bg-color);\n",
              "    box-shadow: 0 1px 2px rgba(60, 64, 67, 0.3), 0 1px 3px 1px rgba(60, 64, 67, 0.15);\n",
              "    fill: var(--button-hover-fill-color);\n",
              "  }\n",
              "\n",
              "  .colab-df-quickchart-complete:disabled,\n",
              "  .colab-df-quickchart-complete:disabled:hover {\n",
              "    background-color: var(--disabled-bg-color);\n",
              "    fill: var(--disabled-fill-color);\n",
              "    box-shadow: none;\n",
              "  }\n",
              "\n",
              "  .colab-df-spinner {\n",
              "    border: 2px solid var(--fill-color);\n",
              "    border-color: transparent;\n",
              "    border-bottom-color: var(--fill-color);\n",
              "    animation:\n",
              "      spin 1s steps(1) infinite;\n",
              "  }\n",
              "\n",
              "  @keyframes spin {\n",
              "    0% {\n",
              "      border-color: transparent;\n",
              "      border-bottom-color: var(--fill-color);\n",
              "      border-left-color: var(--fill-color);\n",
              "    }\n",
              "    20% {\n",
              "      border-color: transparent;\n",
              "      border-left-color: var(--fill-color);\n",
              "      border-top-color: var(--fill-color);\n",
              "    }\n",
              "    30% {\n",
              "      border-color: transparent;\n",
              "      border-left-color: var(--fill-color);\n",
              "      border-top-color: var(--fill-color);\n",
              "      border-right-color: var(--fill-color);\n",
              "    }\n",
              "    40% {\n",
              "      border-color: transparent;\n",
              "      border-right-color: var(--fill-color);\n",
              "      border-top-color: var(--fill-color);\n",
              "    }\n",
              "    60% {\n",
              "      border-color: transparent;\n",
              "      border-right-color: var(--fill-color);\n",
              "    }\n",
              "    80% {\n",
              "      border-color: transparent;\n",
              "      border-right-color: var(--fill-color);\n",
              "      border-bottom-color: var(--fill-color);\n",
              "    }\n",
              "    90% {\n",
              "      border-color: transparent;\n",
              "      border-bottom-color: var(--fill-color);\n",
              "    }\n",
              "  }\n",
              "</style>\n",
              "\n",
              "  <script>\n",
              "    async function quickchart(key) {\n",
              "      const quickchartButtonEl =\n",
              "        document.querySelector('#' + key + ' button');\n",
              "      quickchartButtonEl.disabled = true;  // To prevent multiple clicks.\n",
              "      quickchartButtonEl.classList.add('colab-df-spinner');\n",
              "      try {\n",
              "        const charts = await google.colab.kernel.invokeFunction(\n",
              "            'suggestCharts', [key], {});\n",
              "      } catch (error) {\n",
              "        console.error('Error during call to suggestCharts:', error);\n",
              "      }\n",
              "      quickchartButtonEl.classList.remove('colab-df-spinner');\n",
              "      quickchartButtonEl.classList.add('colab-df-quickchart-complete');\n",
              "    }\n",
              "    (() => {\n",
              "      let quickchartButtonEl =\n",
              "        document.querySelector('#df-07e54378-30b8-4e9c-98c6-c4332797ab70 button');\n",
              "      quickchartButtonEl.style.display =\n",
              "        google.colab.kernel.accessAllowed ? 'block' : 'none';\n",
              "    })();\n",
              "  </script>\n",
              "</div>\n",
              "\n",
              "    </div>\n",
              "  </div>\n"
            ],
            "application/vnd.google.colaboratory.intrinsic+json": {
              "type": "dataframe",
              "summary": "{\n  \"name\": \"data[data['number_of_reviews']\",\n  \"rows\": 10,\n  \"fields\": [\n    {\n      \"column\": \"id\",\n      \"properties\": {\n        \"dtype\": \"number\",\n        \"std\": 6758637,\n        \"min\": 18442048,\n        \"max\": 36243240,\n        \"num_unique_values\": 10,\n        \"samples\": [\n          18442048,\n          31568673,\n          19054683\n        ],\n        \"semantic_type\": \"\",\n        \"description\": \"\"\n      }\n    },\n    {\n      \"column\": \"name\",\n      \"properties\": {\n        \"dtype\": \"string\",\n        \"num_unique_values\": 10,\n        \"samples\": [\n          \"Clean-N-Comfy Bronx Pad\",\n          \"Large private room w/ 2 built-in closets\",\n          \"Fully-furnished modern apartment\"\n        ],\n        \"semantic_type\": \"\",\n        \"description\": \"\"\n      }\n    },\n    {\n      \"column\": \"host_id\",\n      \"properties\": {\n        \"dtype\": \"number\",\n        \"std\": 105627884,\n        \"min\": 19303369,\n        \"max\": 272247972,\n        \"num_unique_values\": 9,\n        \"samples\": [\n          252641467,\n          236631469,\n          97907084\n        ],\n        \"semantic_type\": \"\",\n        \"description\": \"\"\n      }\n    },\n    {\n      \"column\": \"host_name\",\n      \"properties\": {\n        \"dtype\": \"string\",\n        \"num_unique_values\": 9,\n        \"samples\": [\n          \"Antoinette\",\n          \"Paloma\",\n          \"Kim\"\n        ],\n        \"semantic_type\": \"\",\n        \"description\": \"\"\n      }\n    },\n    {\n      \"column\": \"neighbourhood_group\",\n      \"properties\": {\n        \"dtype\": \"category\",\n        \"num_unique_values\": 2,\n        \"samples\": [\n          \"Bronxx\",\n          \"Bronx\"\n        ],\n        \"semantic_type\": \"\",\n        \"description\": \"\"\n      }\n    },\n    {\n      \"column\": \"neighbourhood\",\n      \"properties\": {\n        \"dtype\": \"string\",\n        \"num_unique_values\": 8,\n        \"samples\": [\n          \"Williamsbridge\",\n          \"Wakefield\"\n        ],\n        \"semantic_type\": \"\",\n        \"description\": \"\"\n      }\n    },\n    {\n      \"column\": \"latitude\",\n      \"properties\": {\n        \"dtype\": \"number\",\n        \"std\": 0.014872760335593574,\n        \"min\": 40.85595,\n        \"max\": 40.90281,\n        \"num_unique_values\": 10,\n        \"samples\": [\n          40.86718,\n          40.88449\n        ],\n        \"semantic_type\": \"\",\n        \"description\": \"\"\n      }\n    },\n    {\n      \"column\": \"longitude\",\n      \"properties\": {\n        \"dtype\": \"number\",\n        \"std\": 0.01955989593246422,\n        \"min\": -73.90321,\n        \"max\": -73.84667,\n        \"num_unique_values\": 10,\n        \"samples\": [\n          -73.86235,\n          -73.86227\n        ],\n        \"semantic_type\": \"\",\n        \"description\": \"\"\n      }\n    },\n    {\n      \"column\": \"room_type\",\n      \"properties\": {\n        \"dtype\": \"category\",\n        \"num_unique_values\": 3,\n        \"samples\": [\n          \"Shared room\",\n          \"Private room\"\n        ],\n        \"semantic_type\": \"\",\n        \"description\": \"\"\n      }\n    },\n    {\n      \"column\": \"price\",\n      \"properties\": {\n        \"dtype\": \"number\",\n        \"std\": 4.216370213557839,\n        \"min\": 20.0,\n        \"max\": 33.0,\n        \"num_unique_values\": 6,\n        \"samples\": [\n          20.0,\n          25.0\n        ],\n        \"semantic_type\": \"\",\n        \"description\": \"\"\n      }\n    },\n    {\n      \"column\": \"minimum_nights\",\n      \"properties\": {\n        \"dtype\": \"number\",\n        \"std\": 28,\n        \"min\": 1,\n        \"max\": 90,\n        \"num_unique_values\": 4,\n        \"samples\": [\n          30,\n          2\n        ],\n        \"semantic_type\": \"\",\n        \"description\": \"\"\n      }\n    },\n    {\n      \"column\": \"number_of_reviews\",\n      \"properties\": {\n        \"dtype\": \"number\",\n        \"std\": null,\n        \"min\": null,\n        \"max\": null,\n        \"num_unique_values\": 0,\n        \"samples\": [],\n        \"semantic_type\": \"\",\n        \"description\": \"\"\n      }\n    },\n    {\n      \"column\": \"last_review\",\n      \"properties\": {\n        \"dtype\": \"date\",\n        \"min\": \"NaT\",\n        \"max\": \"NaT\",\n        \"num_unique_values\": 0,\n        \"samples\": [],\n        \"semantic_type\": \"\",\n        \"description\": \"\"\n      }\n    },\n    {\n      \"column\": \"reviews_per_month\",\n      \"properties\": {\n        \"dtype\": \"number\",\n        \"std\": null,\n        \"min\": null,\n        \"max\": null,\n        \"num_unique_values\": 0,\n        \"samples\": [],\n        \"semantic_type\": \"\",\n        \"description\": \"\"\n      }\n    },\n    {\n      \"column\": \"availability_365\",\n      \"properties\": {\n        \"dtype\": \"number\",\n        \"std\": 68,\n        \"min\": 0,\n        \"max\": 190,\n        \"num_unique_values\": 9,\n        \"samples\": [],\n        \"semantic_type\": \"\",\n        \"description\": \"\"\n      }\n    }\n  ]\n}"
            }
          },
          "metadata": {},
          "execution_count": 17
        }
      ]
    },
    {
      "cell_type": "markdown",
      "source": [
        "Memastikan apakah nilai null pada kolom number_of_reviews sama dengan nilai null dalam kolom last_review dan reviews_per_month"
      ],
      "metadata": {
        "id": "8c7vS5rLfDdm"
      }
    },
    {
      "cell_type": "code",
      "source": [
        "data[(data['number_of_reviews'].isnull()) & (data['last_review'].isnull()) & (data['reviews_per_month'].isnull())].shape"
      ],
      "metadata": {
        "colab": {
          "base_uri": "https://localhost:8080/"
        },
        "id": "Xbioshx4fW2R",
        "outputId": "96cdab76-603a-4bc6-ebf2-39ceef0add8e"
      },
      "execution_count": 18,
      "outputs": [
        {
          "output_type": "execute_result",
          "data": {
            "text/plain": [
              "(875, 15)"
            ]
          },
          "metadata": {},
          "execution_count": 18
        }
      ]
    },
    {
      "cell_type": "markdown",
      "source": [
        "Kolom number_of_reviews dapat dipastikan memiliki nilai null di baris yang sama dengan kolom last_review dan reviews_per_month. Hal ini dibuktikan dengan jumlah baris hasil filter yang berjumlah sama dengan hasil pengecekan missing values di awal yaitu 875 baris.\n"
      ],
      "metadata": {
        "id": "ujAZrTdqg8kA"
      }
    },
    {
      "cell_type": "markdown",
      "source": [
        "# 3. Pembersihan Data"
      ],
      "metadata": {
        "id": "HLaRoGUziFm8"
      }
    },
    {
      "cell_type": "markdown",
      "source": [
        "\n",
        "\n",
        "###Duplicated Data\n",
        "\n",
        "\n",
        "\n",
        "\n",
        "\n",
        "\n"
      ],
      "metadata": {
        "id": "UPrYTHBPi9mC"
      }
    },
    {
      "cell_type": "code",
      "source": [
        "#cek data duplikat\n",
        "print(f'Jumlah data duplikat {data.duplicated().sum()}')"
      ],
      "metadata": {
        "colab": {
          "base_uri": "https://localhost:8080/"
        },
        "id": "qMMmi16Jt2-R",
        "outputId": "0e2b1e9a-4f1c-49f7-bb36-c5d6d6f385c0"
      },
      "execution_count": 19,
      "outputs": [
        {
          "output_type": "stream",
          "name": "stdout",
          "text": [
            "Jumlah data duplikat 19\n"
          ]
        }
      ]
    },
    {
      "cell_type": "code",
      "source": [
        "#hapus data duplikat\n",
        "data = data.drop_duplicates().reset_index(drop=True)"
      ],
      "metadata": {
        "id": "tmS5Pr6diicG"
      },
      "execution_count": 20,
      "outputs": []
    },
    {
      "cell_type": "code",
      "source": [
        "#cek data duplikat setelah dihapus\n",
        "print(f'Jumlah data duplikat {data.duplicated().sum()}')"
      ],
      "metadata": {
        "colab": {
          "base_uri": "https://localhost:8080/"
        },
        "id": "7yBVE8jyi67M",
        "outputId": "10ae24ea-9608-41f5-c0b1-9e341cbdcd74"
      },
      "execution_count": 21,
      "outputs": [
        {
          "output_type": "stream",
          "name": "stdout",
          "text": [
            "Jumlah data duplikat 0\n"
          ]
        }
      ]
    },
    {
      "cell_type": "markdown",
      "source": [
        "###Pengecekan kolom *name*"
      ],
      "metadata": {
        "id": "6tjuQovSka7c"
      }
    },
    {
      "cell_type": "markdown",
      "source": [
        "Terdapat 1 baris dalam kolom *name* yang bernilai null. Dikarenakan hanya 1 kolom, mari kita lakukan penanganan dengan menghapus baris tersebut"
      ],
      "metadata": {
        "id": "xVhjnYNxkk8v"
      }
    },
    {
      "cell_type": "code",
      "source": [
        "data[data['name'].isna()].head(10)"
      ],
      "metadata": {
        "colab": {
          "base_uri": "https://localhost:8080/",
          "height": 118
        },
        "id": "kshZ6nmg6zjI",
        "outputId": "a93b6163-e094-4359-cc88-3d74ec785fd5"
      },
      "execution_count": 22,
      "outputs": [
        {
          "output_type": "execute_result",
          "data": {
            "text/plain": [
              "           id name   host_id host_name neighbourhood_group neighbourhood  \\\n",
              "120  12988898  NaN  71552588    Andrea               Bronx       Fordham   \n",
              "\n",
              "     latitude  longitude    room_type  price  minimum_nights  \\\n",
              "120  40.86032  -73.88493  Shared room  130.0               1   \n",
              "\n",
              "     number_of_reviews last_review  reviews_per_month  availability_365  \n",
              "120                NaN         NaT                NaN               365  "
            ],
            "text/html": [
              "\n",
              "  <div id=\"df-44500f87-998b-46c4-bf0f-342bd1959275\" class=\"colab-df-container\">\n",
              "    <div>\n",
              "<style scoped>\n",
              "    .dataframe tbody tr th:only-of-type {\n",
              "        vertical-align: middle;\n",
              "    }\n",
              "\n",
              "    .dataframe tbody tr th {\n",
              "        vertical-align: top;\n",
              "    }\n",
              "\n",
              "    .dataframe thead th {\n",
              "        text-align: right;\n",
              "    }\n",
              "</style>\n",
              "<table border=\"1\" class=\"dataframe\">\n",
              "  <thead>\n",
              "    <tr style=\"text-align: right;\">\n",
              "      <th></th>\n",
              "      <th>id</th>\n",
              "      <th>name</th>\n",
              "      <th>host_id</th>\n",
              "      <th>host_name</th>\n",
              "      <th>neighbourhood_group</th>\n",
              "      <th>neighbourhood</th>\n",
              "      <th>latitude</th>\n",
              "      <th>longitude</th>\n",
              "      <th>room_type</th>\n",
              "      <th>price</th>\n",
              "      <th>minimum_nights</th>\n",
              "      <th>number_of_reviews</th>\n",
              "      <th>last_review</th>\n",
              "      <th>reviews_per_month</th>\n",
              "      <th>availability_365</th>\n",
              "    </tr>\n",
              "  </thead>\n",
              "  <tbody>\n",
              "    <tr>\n",
              "      <th>120</th>\n",
              "      <td>12988898</td>\n",
              "      <td>NaN</td>\n",
              "      <td>71552588</td>\n",
              "      <td>Andrea</td>\n",
              "      <td>Bronx</td>\n",
              "      <td>Fordham</td>\n",
              "      <td>40.86032</td>\n",
              "      <td>-73.88493</td>\n",
              "      <td>Shared room</td>\n",
              "      <td>130.0</td>\n",
              "      <td>1</td>\n",
              "      <td>NaN</td>\n",
              "      <td>NaT</td>\n",
              "      <td>NaN</td>\n",
              "      <td>365</td>\n",
              "    </tr>\n",
              "  </tbody>\n",
              "</table>\n",
              "</div>\n",
              "    <div class=\"colab-df-buttons\">\n",
              "\n",
              "  <div class=\"colab-df-container\">\n",
              "    <button class=\"colab-df-convert\" onclick=\"convertToInteractive('df-44500f87-998b-46c4-bf0f-342bd1959275')\"\n",
              "            title=\"Convert this dataframe to an interactive table.\"\n",
              "            style=\"display:none;\">\n",
              "\n",
              "  <svg xmlns=\"http://www.w3.org/2000/svg\" height=\"24px\" viewBox=\"0 -960 960 960\">\n",
              "    <path d=\"M120-120v-720h720v720H120Zm60-500h600v-160H180v160Zm220 220h160v-160H400v160Zm0 220h160v-160H400v160ZM180-400h160v-160H180v160Zm440 0h160v-160H620v160ZM180-180h160v-160H180v160Zm440 0h160v-160H620v160Z\"/>\n",
              "  </svg>\n",
              "    </button>\n",
              "\n",
              "  <style>\n",
              "    .colab-df-container {\n",
              "      display:flex;\n",
              "      gap: 12px;\n",
              "    }\n",
              "\n",
              "    .colab-df-convert {\n",
              "      background-color: #E8F0FE;\n",
              "      border: none;\n",
              "      border-radius: 50%;\n",
              "      cursor: pointer;\n",
              "      display: none;\n",
              "      fill: #1967D2;\n",
              "      height: 32px;\n",
              "      padding: 0 0 0 0;\n",
              "      width: 32px;\n",
              "    }\n",
              "\n",
              "    .colab-df-convert:hover {\n",
              "      background-color: #E2EBFA;\n",
              "      box-shadow: 0px 1px 2px rgba(60, 64, 67, 0.3), 0px 1px 3px 1px rgba(60, 64, 67, 0.15);\n",
              "      fill: #174EA6;\n",
              "    }\n",
              "\n",
              "    .colab-df-buttons div {\n",
              "      margin-bottom: 4px;\n",
              "    }\n",
              "\n",
              "    [theme=dark] .colab-df-convert {\n",
              "      background-color: #3B4455;\n",
              "      fill: #D2E3FC;\n",
              "    }\n",
              "\n",
              "    [theme=dark] .colab-df-convert:hover {\n",
              "      background-color: #434B5C;\n",
              "      box-shadow: 0px 1px 3px 1px rgba(0, 0, 0, 0.15);\n",
              "      filter: drop-shadow(0px 1px 2px rgba(0, 0, 0, 0.3));\n",
              "      fill: #FFFFFF;\n",
              "    }\n",
              "  </style>\n",
              "\n",
              "    <script>\n",
              "      const buttonEl =\n",
              "        document.querySelector('#df-44500f87-998b-46c4-bf0f-342bd1959275 button.colab-df-convert');\n",
              "      buttonEl.style.display =\n",
              "        google.colab.kernel.accessAllowed ? 'block' : 'none';\n",
              "\n",
              "      async function convertToInteractive(key) {\n",
              "        const element = document.querySelector('#df-44500f87-998b-46c4-bf0f-342bd1959275');\n",
              "        const dataTable =\n",
              "          await google.colab.kernel.invokeFunction('convertToInteractive',\n",
              "                                                    [key], {});\n",
              "        if (!dataTable) return;\n",
              "\n",
              "        const docLinkHtml = 'Like what you see? Visit the ' +\n",
              "          '<a target=\"_blank\" href=https://colab.research.google.com/notebooks/data_table.ipynb>data table notebook</a>'\n",
              "          + ' to learn more about interactive tables.';\n",
              "        element.innerHTML = '';\n",
              "        dataTable['output_type'] = 'display_data';\n",
              "        await google.colab.output.renderOutput(dataTable, element);\n",
              "        const docLink = document.createElement('div');\n",
              "        docLink.innerHTML = docLinkHtml;\n",
              "        element.appendChild(docLink);\n",
              "      }\n",
              "    </script>\n",
              "  </div>\n",
              "\n",
              "\n",
              "    </div>\n",
              "  </div>\n"
            ],
            "application/vnd.google.colaboratory.intrinsic+json": {
              "type": "dataframe",
              "repr_error": "0"
            }
          },
          "metadata": {},
          "execution_count": 22
        }
      ]
    },
    {
      "cell_type": "code",
      "source": [
        "data.drop(data[(data['name'].isnull())].index, inplace=True)"
      ],
      "metadata": {
        "id": "xnCrkaqCqCn8"
      },
      "execution_count": 23,
      "outputs": []
    },
    {
      "cell_type": "code",
      "source": [
        "#cek data\n",
        "data[data['name'].isna()].head(10)"
      ],
      "metadata": {
        "colab": {
          "base_uri": "https://localhost:8080/",
          "height": 73
        },
        "id": "NI_o0W-GqwfR",
        "outputId": "c710b45c-237f-40a4-a1fa-9ff5f4b171be"
      },
      "execution_count": 24,
      "outputs": [
        {
          "output_type": "execute_result",
          "data": {
            "text/plain": [
              "Empty DataFrame\n",
              "Columns: [id, name, host_id, host_name, neighbourhood_group, neighbourhood, latitude, longitude, room_type, price, minimum_nights, number_of_reviews, last_review, reviews_per_month, availability_365]\n",
              "Index: []"
            ],
            "text/html": [
              "\n",
              "  <div id=\"df-c2f65dbf-c62b-4ed3-95b8-4bac87296819\" class=\"colab-df-container\">\n",
              "    <div>\n",
              "<style scoped>\n",
              "    .dataframe tbody tr th:only-of-type {\n",
              "        vertical-align: middle;\n",
              "    }\n",
              "\n",
              "    .dataframe tbody tr th {\n",
              "        vertical-align: top;\n",
              "    }\n",
              "\n",
              "    .dataframe thead th {\n",
              "        text-align: right;\n",
              "    }\n",
              "</style>\n",
              "<table border=\"1\" class=\"dataframe\">\n",
              "  <thead>\n",
              "    <tr style=\"text-align: right;\">\n",
              "      <th></th>\n",
              "      <th>id</th>\n",
              "      <th>name</th>\n",
              "      <th>host_id</th>\n",
              "      <th>host_name</th>\n",
              "      <th>neighbourhood_group</th>\n",
              "      <th>neighbourhood</th>\n",
              "      <th>latitude</th>\n",
              "      <th>longitude</th>\n",
              "      <th>room_type</th>\n",
              "      <th>price</th>\n",
              "      <th>minimum_nights</th>\n",
              "      <th>number_of_reviews</th>\n",
              "      <th>last_review</th>\n",
              "      <th>reviews_per_month</th>\n",
              "      <th>availability_365</th>\n",
              "    </tr>\n",
              "  </thead>\n",
              "  <tbody>\n",
              "  </tbody>\n",
              "</table>\n",
              "</div>\n",
              "    <div class=\"colab-df-buttons\">\n",
              "\n",
              "  <div class=\"colab-df-container\">\n",
              "    <button class=\"colab-df-convert\" onclick=\"convertToInteractive('df-c2f65dbf-c62b-4ed3-95b8-4bac87296819')\"\n",
              "            title=\"Convert this dataframe to an interactive table.\"\n",
              "            style=\"display:none;\">\n",
              "\n",
              "  <svg xmlns=\"http://www.w3.org/2000/svg\" height=\"24px\" viewBox=\"0 -960 960 960\">\n",
              "    <path d=\"M120-120v-720h720v720H120Zm60-500h600v-160H180v160Zm220 220h160v-160H400v160Zm0 220h160v-160H400v160ZM180-400h160v-160H180v160Zm440 0h160v-160H620v160ZM180-180h160v-160H180v160Zm440 0h160v-160H620v160Z\"/>\n",
              "  </svg>\n",
              "    </button>\n",
              "\n",
              "  <style>\n",
              "    .colab-df-container {\n",
              "      display:flex;\n",
              "      gap: 12px;\n",
              "    }\n",
              "\n",
              "    .colab-df-convert {\n",
              "      background-color: #E8F0FE;\n",
              "      border: none;\n",
              "      border-radius: 50%;\n",
              "      cursor: pointer;\n",
              "      display: none;\n",
              "      fill: #1967D2;\n",
              "      height: 32px;\n",
              "      padding: 0 0 0 0;\n",
              "      width: 32px;\n",
              "    }\n",
              "\n",
              "    .colab-df-convert:hover {\n",
              "      background-color: #E2EBFA;\n",
              "      box-shadow: 0px 1px 2px rgba(60, 64, 67, 0.3), 0px 1px 3px 1px rgba(60, 64, 67, 0.15);\n",
              "      fill: #174EA6;\n",
              "    }\n",
              "\n",
              "    .colab-df-buttons div {\n",
              "      margin-bottom: 4px;\n",
              "    }\n",
              "\n",
              "    [theme=dark] .colab-df-convert {\n",
              "      background-color: #3B4455;\n",
              "      fill: #D2E3FC;\n",
              "    }\n",
              "\n",
              "    [theme=dark] .colab-df-convert:hover {\n",
              "      background-color: #434B5C;\n",
              "      box-shadow: 0px 1px 3px 1px rgba(0, 0, 0, 0.15);\n",
              "      filter: drop-shadow(0px 1px 2px rgba(0, 0, 0, 0.3));\n",
              "      fill: #FFFFFF;\n",
              "    }\n",
              "  </style>\n",
              "\n",
              "    <script>\n",
              "      const buttonEl =\n",
              "        document.querySelector('#df-c2f65dbf-c62b-4ed3-95b8-4bac87296819 button.colab-df-convert');\n",
              "      buttonEl.style.display =\n",
              "        google.colab.kernel.accessAllowed ? 'block' : 'none';\n",
              "\n",
              "      async function convertToInteractive(key) {\n",
              "        const element = document.querySelector('#df-c2f65dbf-c62b-4ed3-95b8-4bac87296819');\n",
              "        const dataTable =\n",
              "          await google.colab.kernel.invokeFunction('convertToInteractive',\n",
              "                                                    [key], {});\n",
              "        if (!dataTable) return;\n",
              "\n",
              "        const docLinkHtml = 'Like what you see? Visit the ' +\n",
              "          '<a target=\"_blank\" href=https://colab.research.google.com/notebooks/data_table.ipynb>data table notebook</a>'\n",
              "          + ' to learn more about interactive tables.';\n",
              "        element.innerHTML = '';\n",
              "        dataTable['output_type'] = 'display_data';\n",
              "        await google.colab.output.renderOutput(dataTable, element);\n",
              "        const docLink = document.createElement('div');\n",
              "        docLink.innerHTML = docLinkHtml;\n",
              "        element.appendChild(docLink);\n",
              "      }\n",
              "    </script>\n",
              "  </div>\n",
              "\n",
              "\n",
              "    </div>\n",
              "  </div>\n"
            ],
            "application/vnd.google.colaboratory.intrinsic+json": {
              "type": "dataframe",
              "repr_error": "Out of range float values are not JSON compliant: nan"
            }
          },
          "metadata": {},
          "execution_count": 24
        }
      ]
    },
    {
      "cell_type": "markdown",
      "source": [
        "Melakukan pengecekan penulisan dalam kolom name agar data bersifat konsisten"
      ],
      "metadata": {
        "id": "n7R1quFEvIBI"
      }
    },
    {
      "cell_type": "code",
      "source": [
        "data['name'].value_counts()"
      ],
      "metadata": {
        "colab": {
          "base_uri": "https://localhost:8080/"
        },
        "id": "wnULZJf0uYNs",
        "outputId": "9bdd9607-4cea-459c-ccf8-52532b5c6189"
      },
      "execution_count": 25,
      "outputs": [
        {
          "output_type": "execute_result",
          "data": {
            "text/plain": [
              "name\n",
              "Hillside Hotel                                       18\n",
              "Home away from home                                   8\n",
              "New york Multi-unit building                          5\n",
              "步行9分钟到法拉盛缅街中心的电梯房,提供免费矿泉水可乐                           3\n",
              "Prolonged Traveler's Dream (a month first & more)     3\n",
              "                                                     ..\n",
              "Astoria's Tranquil Home Away From Home                1\n",
              "Super Cozy Studio Apartment                           1\n",
              "cozy zen master bedroom minutes from Manhattan.       1\n",
              "Ideal vacationing spot for beach lovers, near JFK     1\n",
              "Room near JFK Queen Bed                               1\n",
              "Name: count, Length: 4917, dtype: int64"
            ]
          },
          "metadata": {},
          "execution_count": 25
        }
      ]
    },
    {
      "cell_type": "code",
      "source": [
        "#Agar penulisan menjadi kapital untuk setiap kata\n",
        "data['name'] = data['name'].str.title()"
      ],
      "metadata": {
        "id": "Ax9R6S5hulqm"
      },
      "execution_count": 26,
      "outputs": []
    },
    {
      "cell_type": "code",
      "source": [
        "data['name'].value_counts()"
      ],
      "metadata": {
        "colab": {
          "base_uri": "https://localhost:8080/"
        },
        "id": "GW6nTd9Duwrw",
        "outputId": "dd469799-2c46-4b4e-c4bb-05f911de76fe"
      },
      "execution_count": 27,
      "outputs": [
        {
          "output_type": "execute_result",
          "data": {
            "text/plain": [
              "name\n",
              "Hillside Hotel                          18\n",
              "Home Away From Home                     12\n",
              "New York Multi-Unit Building             5\n",
              "Private Room                             4\n",
              "Cozy Home Away From Home                 4\n",
              "                                        ..\n",
              "Mini Casa                                1\n",
              "Town Home One                            1\n",
              "家庭式雙人房K                                  1\n",
              "Geraldine'S  1 Br Apt 5 Min From Jfk     1\n",
              "Room Near Jfk Queen Bed                  1\n",
              "Name: count, Length: 4889, dtype: int64"
            ]
          },
          "metadata": {},
          "execution_count": 27
        }
      ]
    },
    {
      "cell_type": "markdown",
      "source": [
        "###Pengecekan kolom *host_name*"
      ],
      "metadata": {
        "id": "hx6s4UJ5uOOc"
      }
    },
    {
      "cell_type": "markdown",
      "source": [
        "DIkarenakan terdapat satu baris dalam kolom *host_name* yang bernilai null, maka kita hapus saja."
      ],
      "metadata": {
        "id": "LjAINrAIudV5"
      }
    },
    {
      "cell_type": "code",
      "source": [
        "data[data['host_name'].isna()].head(10)"
      ],
      "metadata": {
        "colab": {
          "base_uri": "https://localhost:8080/",
          "height": 118
        },
        "id": "mqmX3RyIuzCK",
        "outputId": "e70c3838-1a41-4e77-a0c6-e01b2a5c02ec"
      },
      "execution_count": 28,
      "outputs": [
        {
          "output_type": "execute_result",
          "data": {
            "text/plain": [
              "          id       name  host_id host_name neighbourhood_group  \\\n",
              "3912  100184  Bienvenue   526653       NaN              Queens   \n",
              "\n",
              "       neighbourhood  latitude  longitude     room_type  price  \\\n",
              "3912  Queens Village  40.72413  -73.76133  Private room   50.0   \n",
              "\n",
              "      minimum_nights  number_of_reviews last_review  reviews_per_month  \\\n",
              "3912               1               43.0  2019-07-08               0.45   \n",
              "\n",
              "      availability_365  \n",
              "3912                88  "
            ],
            "text/html": [
              "\n",
              "  <div id=\"df-706fba3e-3d78-4598-bf59-2dcbd5f729a2\" class=\"colab-df-container\">\n",
              "    <div>\n",
              "<style scoped>\n",
              "    .dataframe tbody tr th:only-of-type {\n",
              "        vertical-align: middle;\n",
              "    }\n",
              "\n",
              "    .dataframe tbody tr th {\n",
              "        vertical-align: top;\n",
              "    }\n",
              "\n",
              "    .dataframe thead th {\n",
              "        text-align: right;\n",
              "    }\n",
              "</style>\n",
              "<table border=\"1\" class=\"dataframe\">\n",
              "  <thead>\n",
              "    <tr style=\"text-align: right;\">\n",
              "      <th></th>\n",
              "      <th>id</th>\n",
              "      <th>name</th>\n",
              "      <th>host_id</th>\n",
              "      <th>host_name</th>\n",
              "      <th>neighbourhood_group</th>\n",
              "      <th>neighbourhood</th>\n",
              "      <th>latitude</th>\n",
              "      <th>longitude</th>\n",
              "      <th>room_type</th>\n",
              "      <th>price</th>\n",
              "      <th>minimum_nights</th>\n",
              "      <th>number_of_reviews</th>\n",
              "      <th>last_review</th>\n",
              "      <th>reviews_per_month</th>\n",
              "      <th>availability_365</th>\n",
              "    </tr>\n",
              "  </thead>\n",
              "  <tbody>\n",
              "    <tr>\n",
              "      <th>3912</th>\n",
              "      <td>100184</td>\n",
              "      <td>Bienvenue</td>\n",
              "      <td>526653</td>\n",
              "      <td>NaN</td>\n",
              "      <td>Queens</td>\n",
              "      <td>Queens Village</td>\n",
              "      <td>40.72413</td>\n",
              "      <td>-73.76133</td>\n",
              "      <td>Private room</td>\n",
              "      <td>50.0</td>\n",
              "      <td>1</td>\n",
              "      <td>43.0</td>\n",
              "      <td>2019-07-08</td>\n",
              "      <td>0.45</td>\n",
              "      <td>88</td>\n",
              "    </tr>\n",
              "  </tbody>\n",
              "</table>\n",
              "</div>\n",
              "    <div class=\"colab-df-buttons\">\n",
              "\n",
              "  <div class=\"colab-df-container\">\n",
              "    <button class=\"colab-df-convert\" onclick=\"convertToInteractive('df-706fba3e-3d78-4598-bf59-2dcbd5f729a2')\"\n",
              "            title=\"Convert this dataframe to an interactive table.\"\n",
              "            style=\"display:none;\">\n",
              "\n",
              "  <svg xmlns=\"http://www.w3.org/2000/svg\" height=\"24px\" viewBox=\"0 -960 960 960\">\n",
              "    <path d=\"M120-120v-720h720v720H120Zm60-500h600v-160H180v160Zm220 220h160v-160H400v160Zm0 220h160v-160H400v160ZM180-400h160v-160H180v160Zm440 0h160v-160H620v160ZM180-180h160v-160H180v160Zm440 0h160v-160H620v160Z\"/>\n",
              "  </svg>\n",
              "    </button>\n",
              "\n",
              "  <style>\n",
              "    .colab-df-container {\n",
              "      display:flex;\n",
              "      gap: 12px;\n",
              "    }\n",
              "\n",
              "    .colab-df-convert {\n",
              "      background-color: #E8F0FE;\n",
              "      border: none;\n",
              "      border-radius: 50%;\n",
              "      cursor: pointer;\n",
              "      display: none;\n",
              "      fill: #1967D2;\n",
              "      height: 32px;\n",
              "      padding: 0 0 0 0;\n",
              "      width: 32px;\n",
              "    }\n",
              "\n",
              "    .colab-df-convert:hover {\n",
              "      background-color: #E2EBFA;\n",
              "      box-shadow: 0px 1px 2px rgba(60, 64, 67, 0.3), 0px 1px 3px 1px rgba(60, 64, 67, 0.15);\n",
              "      fill: #174EA6;\n",
              "    }\n",
              "\n",
              "    .colab-df-buttons div {\n",
              "      margin-bottom: 4px;\n",
              "    }\n",
              "\n",
              "    [theme=dark] .colab-df-convert {\n",
              "      background-color: #3B4455;\n",
              "      fill: #D2E3FC;\n",
              "    }\n",
              "\n",
              "    [theme=dark] .colab-df-convert:hover {\n",
              "      background-color: #434B5C;\n",
              "      box-shadow: 0px 1px 3px 1px rgba(0, 0, 0, 0.15);\n",
              "      filter: drop-shadow(0px 1px 2px rgba(0, 0, 0, 0.3));\n",
              "      fill: #FFFFFF;\n",
              "    }\n",
              "  </style>\n",
              "\n",
              "    <script>\n",
              "      const buttonEl =\n",
              "        document.querySelector('#df-706fba3e-3d78-4598-bf59-2dcbd5f729a2 button.colab-df-convert');\n",
              "      buttonEl.style.display =\n",
              "        google.colab.kernel.accessAllowed ? 'block' : 'none';\n",
              "\n",
              "      async function convertToInteractive(key) {\n",
              "        const element = document.querySelector('#df-706fba3e-3d78-4598-bf59-2dcbd5f729a2');\n",
              "        const dataTable =\n",
              "          await google.colab.kernel.invokeFunction('convertToInteractive',\n",
              "                                                    [key], {});\n",
              "        if (!dataTable) return;\n",
              "\n",
              "        const docLinkHtml = 'Like what you see? Visit the ' +\n",
              "          '<a target=\"_blank\" href=https://colab.research.google.com/notebooks/data_table.ipynb>data table notebook</a>'\n",
              "          + ' to learn more about interactive tables.';\n",
              "        element.innerHTML = '';\n",
              "        dataTable['output_type'] = 'display_data';\n",
              "        await google.colab.output.renderOutput(dataTable, element);\n",
              "        const docLink = document.createElement('div');\n",
              "        docLink.innerHTML = docLinkHtml;\n",
              "        element.appendChild(docLink);\n",
              "      }\n",
              "    </script>\n",
              "  </div>\n",
              "\n",
              "\n",
              "    </div>\n",
              "  </div>\n"
            ],
            "application/vnd.google.colaboratory.intrinsic+json": {
              "type": "dataframe",
              "repr_error": "0"
            }
          },
          "metadata": {},
          "execution_count": 28
        }
      ]
    },
    {
      "cell_type": "code",
      "source": [
        "data.drop(data[(data['host_name'].isnull())].index, inplace=True)"
      ],
      "metadata": {
        "id": "-IiS08wsu_j0"
      },
      "execution_count": 29,
      "outputs": []
    },
    {
      "cell_type": "code",
      "source": [
        "data[data['host_name'].isna()].head(10)"
      ],
      "metadata": {
        "colab": {
          "base_uri": "https://localhost:8080/",
          "height": 73
        },
        "id": "-Sy0L6vhvCLS",
        "outputId": "5b237759-7825-4acc-a1c9-4e8f6dc9abc3"
      },
      "execution_count": 30,
      "outputs": [
        {
          "output_type": "execute_result",
          "data": {
            "text/plain": [
              "Empty DataFrame\n",
              "Columns: [id, name, host_id, host_name, neighbourhood_group, neighbourhood, latitude, longitude, room_type, price, minimum_nights, number_of_reviews, last_review, reviews_per_month, availability_365]\n",
              "Index: []"
            ],
            "text/html": [
              "\n",
              "  <div id=\"df-084c319b-129e-49af-bf70-75857c31e018\" class=\"colab-df-container\">\n",
              "    <div>\n",
              "<style scoped>\n",
              "    .dataframe tbody tr th:only-of-type {\n",
              "        vertical-align: middle;\n",
              "    }\n",
              "\n",
              "    .dataframe tbody tr th {\n",
              "        vertical-align: top;\n",
              "    }\n",
              "\n",
              "    .dataframe thead th {\n",
              "        text-align: right;\n",
              "    }\n",
              "</style>\n",
              "<table border=\"1\" class=\"dataframe\">\n",
              "  <thead>\n",
              "    <tr style=\"text-align: right;\">\n",
              "      <th></th>\n",
              "      <th>id</th>\n",
              "      <th>name</th>\n",
              "      <th>host_id</th>\n",
              "      <th>host_name</th>\n",
              "      <th>neighbourhood_group</th>\n",
              "      <th>neighbourhood</th>\n",
              "      <th>latitude</th>\n",
              "      <th>longitude</th>\n",
              "      <th>room_type</th>\n",
              "      <th>price</th>\n",
              "      <th>minimum_nights</th>\n",
              "      <th>number_of_reviews</th>\n",
              "      <th>last_review</th>\n",
              "      <th>reviews_per_month</th>\n",
              "      <th>availability_365</th>\n",
              "    </tr>\n",
              "  </thead>\n",
              "  <tbody>\n",
              "  </tbody>\n",
              "</table>\n",
              "</div>\n",
              "    <div class=\"colab-df-buttons\">\n",
              "\n",
              "  <div class=\"colab-df-container\">\n",
              "    <button class=\"colab-df-convert\" onclick=\"convertToInteractive('df-084c319b-129e-49af-bf70-75857c31e018')\"\n",
              "            title=\"Convert this dataframe to an interactive table.\"\n",
              "            style=\"display:none;\">\n",
              "\n",
              "  <svg xmlns=\"http://www.w3.org/2000/svg\" height=\"24px\" viewBox=\"0 -960 960 960\">\n",
              "    <path d=\"M120-120v-720h720v720H120Zm60-500h600v-160H180v160Zm220 220h160v-160H400v160Zm0 220h160v-160H400v160ZM180-400h160v-160H180v160Zm440 0h160v-160H620v160ZM180-180h160v-160H180v160Zm440 0h160v-160H620v160Z\"/>\n",
              "  </svg>\n",
              "    </button>\n",
              "\n",
              "  <style>\n",
              "    .colab-df-container {\n",
              "      display:flex;\n",
              "      gap: 12px;\n",
              "    }\n",
              "\n",
              "    .colab-df-convert {\n",
              "      background-color: #E8F0FE;\n",
              "      border: none;\n",
              "      border-radius: 50%;\n",
              "      cursor: pointer;\n",
              "      display: none;\n",
              "      fill: #1967D2;\n",
              "      height: 32px;\n",
              "      padding: 0 0 0 0;\n",
              "      width: 32px;\n",
              "    }\n",
              "\n",
              "    .colab-df-convert:hover {\n",
              "      background-color: #E2EBFA;\n",
              "      box-shadow: 0px 1px 2px rgba(60, 64, 67, 0.3), 0px 1px 3px 1px rgba(60, 64, 67, 0.15);\n",
              "      fill: #174EA6;\n",
              "    }\n",
              "\n",
              "    .colab-df-buttons div {\n",
              "      margin-bottom: 4px;\n",
              "    }\n",
              "\n",
              "    [theme=dark] .colab-df-convert {\n",
              "      background-color: #3B4455;\n",
              "      fill: #D2E3FC;\n",
              "    }\n",
              "\n",
              "    [theme=dark] .colab-df-convert:hover {\n",
              "      background-color: #434B5C;\n",
              "      box-shadow: 0px 1px 3px 1px rgba(0, 0, 0, 0.15);\n",
              "      filter: drop-shadow(0px 1px 2px rgba(0, 0, 0, 0.3));\n",
              "      fill: #FFFFFF;\n",
              "    }\n",
              "  </style>\n",
              "\n",
              "    <script>\n",
              "      const buttonEl =\n",
              "        document.querySelector('#df-084c319b-129e-49af-bf70-75857c31e018 button.colab-df-convert');\n",
              "      buttonEl.style.display =\n",
              "        google.colab.kernel.accessAllowed ? 'block' : 'none';\n",
              "\n",
              "      async function convertToInteractive(key) {\n",
              "        const element = document.querySelector('#df-084c319b-129e-49af-bf70-75857c31e018');\n",
              "        const dataTable =\n",
              "          await google.colab.kernel.invokeFunction('convertToInteractive',\n",
              "                                                    [key], {});\n",
              "        if (!dataTable) return;\n",
              "\n",
              "        const docLinkHtml = 'Like what you see? Visit the ' +\n",
              "          '<a target=\"_blank\" href=https://colab.research.google.com/notebooks/data_table.ipynb>data table notebook</a>'\n",
              "          + ' to learn more about interactive tables.';\n",
              "        element.innerHTML = '';\n",
              "        dataTable['output_type'] = 'display_data';\n",
              "        await google.colab.output.renderOutput(dataTable, element);\n",
              "        const docLink = document.createElement('div');\n",
              "        docLink.innerHTML = docLinkHtml;\n",
              "        element.appendChild(docLink);\n",
              "      }\n",
              "    </script>\n",
              "  </div>\n",
              "\n",
              "\n",
              "    </div>\n",
              "  </div>\n"
            ],
            "application/vnd.google.colaboratory.intrinsic+json": {
              "type": "dataframe",
              "repr_error": "Out of range float values are not JSON compliant: nan"
            }
          },
          "metadata": {},
          "execution_count": 30
        }
      ]
    },
    {
      "cell_type": "markdown",
      "source": [
        "###Pengecekan kolom *neighbourhood group*"
      ],
      "metadata": {
        "id": "nEKgwoMAwzx_"
      }
    },
    {
      "cell_type": "code",
      "source": [
        "data['neighbourhood_group'].value_counts()"
      ],
      "metadata": {
        "colab": {
          "base_uri": "https://localhost:8080/"
        },
        "id": "dJuVgsW6w9xb",
        "outputId": "bce22a3b-c4a2-4555-b151-6c7b96150286"
      },
      "execution_count": 31,
      "outputs": [
        {
          "output_type": "execute_result",
          "data": {
            "text/plain": [
              "neighbourhood_group\n",
              "Queens       3443\n",
              "Bronx         741\n",
              "Brooklyn      711\n",
              "QUeens         38\n",
              "Brooklynn      37\n",
              "Bronxx         27\n",
              "Name: count, dtype: int64"
            ]
          },
          "metadata": {},
          "execution_count": 31
        }
      ]
    },
    {
      "cell_type": "markdown",
      "source": [
        "Terlihat ada yang janggal terkait penulisan antara Bronx dengan Bronxx, Queens dengan QUeens, dan Brooklyn dengan Brooklynn. Mari kita sesuaikan data dalam kolom ini."
      ],
      "metadata": {
        "id": "iBL9kf6yxFpq"
      }
    },
    {
      "cell_type": "code",
      "source": [
        "data['neighbourhood_group'] = data['neighbourhood_group'].replace('Bronxx', 'Bronx')\n",
        "data['neighbourhood_group'] = data['neighbourhood_group'].replace('QUeens', 'Queens')\n",
        "data['neighbourhood_group'] = data['neighbourhood_group'].replace('Brooklynn', 'Brooklyn')"
      ],
      "metadata": {
        "id": "oshbeXldxarM"
      },
      "execution_count": 32,
      "outputs": []
    },
    {
      "cell_type": "code",
      "source": [
        "data['neighbourhood_group'].value_counts()"
      ],
      "metadata": {
        "colab": {
          "base_uri": "https://localhost:8080/"
        },
        "id": "yqtwfCv4x4_c",
        "outputId": "f931f3a9-f41e-43bd-c488-0b5474baf3cc"
      },
      "execution_count": 33,
      "outputs": [
        {
          "output_type": "execute_result",
          "data": {
            "text/plain": [
              "neighbourhood_group\n",
              "Queens      3481\n",
              "Bronx        768\n",
              "Brooklyn     748\n",
              "Name: count, dtype: int64"
            ]
          },
          "metadata": {},
          "execution_count": 33
        }
      ]
    },
    {
      "cell_type": "markdown",
      "source": [
        "###Pengecekan kolom *minimum_nights*"
      ],
      "metadata": {
        "id": "somBQLIt1PGJ"
      }
    },
    {
      "cell_type": "code",
      "source": [
        "data['minimum_nights'].value_counts()"
      ],
      "metadata": {
        "colab": {
          "base_uri": "https://localhost:8080/"
        },
        "id": "_MA0LH_W1eBo",
        "outputId": "2bf6616d-5cb2-470b-ad9d-82f2d62690a4"
      },
      "execution_count": 34,
      "outputs": [
        {
          "output_type": "execute_result",
          "data": {
            "text/plain": [
              "minimum_nights\n",
              " 1       1994\n",
              " 2       1348\n",
              " 3        642\n",
              " 30       260\n",
              " 4        199\n",
              " 5        165\n",
              " 7        158\n",
              " 6         39\n",
              " 14        33\n",
              " 15        19\n",
              " 28        19\n",
              " 20        17\n",
              " 10        16\n",
              " 29        16\n",
              " 9          9\n",
              " 21         8\n",
              " 90         7\n",
              " 60         6\n",
              " 31         5\n",
              " 180        3\n",
              " 18         3\n",
              " 35         3\n",
              " 25         2\n",
              " 27         2\n",
              " 45         2\n",
              " 16         2\n",
              " 365        2\n",
              " 12         2\n",
              " 85         1\n",
              " 13         1\n",
              " 11         1\n",
              " 40         1\n",
              "-1          1\n",
              " 8          1\n",
              " 22         1\n",
              " 26         1\n",
              " 93         1\n",
              " 62         1\n",
              " 37         1\n",
              " 5000       1\n",
              " 24         1\n",
              " 91         1\n",
              " 17         1\n",
              " 210        1\n",
              "Name: count, dtype: int64"
            ]
          },
          "metadata": {},
          "execution_count": 34
        }
      ]
    },
    {
      "cell_type": "markdown",
      "source": [
        "Terdapat kejanggalan dalam informasi kolom minimum_nights yaitu informasi bernilai negatif dan bernilai 5000. Mari kita sesuaikan data dalam kolom tersebut."
      ],
      "metadata": {
        "id": "LOKiGfVQ2VLx"
      }
    },
    {
      "cell_type": "code",
      "source": [
        "#Dikarenakan data hanya berjumlah satu, maka kita hapus saja\n",
        "\n",
        "#Hilangkan baris yang memuat -1\n",
        "data.drop(data[data['minimum_nights'] == -1].index, inplace=True)\n",
        "\n",
        "#Hilangkan baris yang memuat 5000\n",
        "data.drop(data[data['minimum_nights'] == 5000].index, inplace=True)"
      ],
      "metadata": {
        "id": "oWDXNj4Y36ap"
      },
      "execution_count": 35,
      "outputs": []
    },
    {
      "cell_type": "code",
      "source": [
        "data['minimum_nights'].value_counts()"
      ],
      "metadata": {
        "colab": {
          "base_uri": "https://localhost:8080/"
        },
        "id": "iRBjM7596Kgt",
        "outputId": "e2947ae9-3bf6-4dd3-e216-6e6a35b7d760"
      },
      "execution_count": 36,
      "outputs": [
        {
          "output_type": "execute_result",
          "data": {
            "text/plain": [
              "minimum_nights\n",
              "1      1994\n",
              "2      1348\n",
              "3       642\n",
              "30      260\n",
              "4       199\n",
              "5       165\n",
              "7       158\n",
              "6        39\n",
              "14       33\n",
              "15       19\n",
              "28       19\n",
              "20       17\n",
              "10       16\n",
              "29       16\n",
              "9         9\n",
              "21        8\n",
              "90        7\n",
              "60        6\n",
              "31        5\n",
              "35        3\n",
              "180       3\n",
              "18        3\n",
              "12        2\n",
              "25        2\n",
              "27        2\n",
              "45        2\n",
              "16        2\n",
              "365       2\n",
              "85        1\n",
              "210       1\n",
              "17        1\n",
              "24        1\n",
              "62        1\n",
              "37        1\n",
              "93        1\n",
              "13        1\n",
              "26        1\n",
              "22        1\n",
              "8         1\n",
              "40        1\n",
              "11        1\n",
              "91        1\n",
              "Name: count, dtype: int64"
            ]
          },
          "metadata": {},
          "execution_count": 36
        }
      ]
    },
    {
      "cell_type": "markdown",
      "source": [
        "#Imputasi Process"
      ],
      "metadata": {
        "id": "oSuaMfM_Pi7O"
      }
    },
    {
      "cell_type": "markdown",
      "source": [
        "###Mengisi kolom *price*"
      ],
      "metadata": {
        "id": "sPf6VF1SROZ2"
      }
    },
    {
      "cell_type": "code",
      "source": [
        "plt.hist(data['price'], density=True, bins=100)\n",
        "plt.plot()"
      ],
      "metadata": {
        "colab": {
          "base_uri": "https://localhost:8080/",
          "height": 447
        },
        "id": "nUBPSA11Q4PY",
        "outputId": "1ec23084-4632-4265-d9ef-d9abaff7e9de"
      },
      "execution_count": 37,
      "outputs": [
        {
          "output_type": "execute_result",
          "data": {
            "text/plain": [
              "[]"
            ]
          },
          "metadata": {},
          "execution_count": 37
        },
        {
          "output_type": "display_data",
          "data": {
            "text/plain": [
              "<Figure size 640x480 with 1 Axes>"
            ],
            "image/png": "[encoded data removed]"
          },
          "metadata": {}
        }
      ]
    },
    {
      "cell_type": "code",
      "source": [
        "median_price = data['price'].median()\n",
        "print(median_price)"
      ],
      "metadata": {
        "colab": {
          "base_uri": "https://localhost:8080/"
        },
        "id": "qDMwBWYcUIzB",
        "outputId": "33d066e8-81b6-465d-f70d-c0de4a28715d"
      },
      "execution_count": 38,
      "outputs": [
        {
          "output_type": "stream",
          "name": "stdout",
          "text": [
            "68.0\n"
          ]
        }
      ]
    },
    {
      "cell_type": "code",
      "source": [
        "data['price'] = data['price'].fillna(median_price)"
      ],
      "metadata": {
        "id": "EiCdaH7LUQiI"
      },
      "execution_count": 39,
      "outputs": []
    },
    {
      "cell_type": "code",
      "source": [
        "data.isna().sum()"
      ],
      "metadata": {
        "colab": {
          "base_uri": "https://localhost:8080/"
        },
        "id": "BlKiHJdC1ovc",
        "outputId": "0ccbb89a-83d5-4682-edc5-1eed1255916d"
      },
      "execution_count": 41,
      "outputs": [
        {
          "output_type": "execute_result",
          "data": {
            "text/plain": [
              "id                       0\n",
              "name                     0\n",
              "host_id                  0\n",
              "host_name                0\n",
              "neighbourhood_group      0\n",
              "neighbourhood            0\n",
              "latitude                 0\n",
              "longitude                0\n",
              "room_type                0\n",
              "price                    0\n",
              "minimum_nights           0\n",
              "number_of_reviews      872\n",
              "last_review            872\n",
              "reviews_per_month      872\n",
              "availability_365         0\n",
              "dtype: int64"
            ]
          },
          "metadata": {},
          "execution_count": 41
        }
      ]
    },
    {
      "cell_type": "markdown",
      "source": [
        "###Mengisi kolom *number_of_reviews*, *last_review*, *reviews_per_month*"
      ],
      "metadata": {
        "id": "kuFUEB4iUmrl"
      }
    },
    {
      "cell_type": "code",
      "source": [
        "plt.hist(data['number_of_reviews'], density=True, bins=100)\n",
        "plt.plot()"
      ],
      "metadata": {
        "colab": {
          "base_uri": "https://localhost:8080/",
          "height": 447
        },
        "id": "HdnGmG9-U5q3",
        "outputId": "b63ab630-49b1-4117-9df2-ec2c338b8c7e"
      },
      "execution_count": 40,
      "outputs": [
        {
          "output_type": "execute_result",
          "data": {
            "text/plain": [
              "[]"
            ]
          },
          "metadata": {},
          "execution_count": 40
        },
        {
          "output_type": "display_data",
          "data": {
            "text/plain": [
              "<Figure size 640x480 with 1 Axes>"
            ],
            "image/png": "[encoded data removed]"
          },
          "metadata": {}
        }
      ]
    },
    {
      "cell_type": "code",
      "source": [
        "plt.hist(data['last_review'], density=True, bins=100)\n",
        "plt.plot()"
      ],
      "metadata": {
        "colab": {
          "base_uri": "https://localhost:8080/",
          "height": 450
        },
        "id": "SLBjEUIzWmgt",
        "outputId": "d5f7bcc7-18de-4f1d-b2ac-ba1b0f7afde7"
      },
      "execution_count": 42,
      "outputs": [
        {
          "output_type": "execute_result",
          "data": {
            "text/plain": [
              "[]"
            ]
          },
          "metadata": {},
          "execution_count": 42
        },
        {
          "output_type": "display_data",
          "data": {
            "text/plain": [
              "<Figure size 640x480 with 1 Axes>"
            ],
            "image/png": "[encoded data removed]"
          },
          "metadata": {}
        }
      ]
    },
    {
      "cell_type": "code",
      "source": [
        "plt.hist(data['reviews_per_month'], density=True, bins=100)\n",
        "plt.plot()"
      ],
      "metadata": {
        "colab": {
          "base_uri": "https://localhost:8080/",
          "height": 447
        },
        "id": "wH69w8aaVEGH",
        "outputId": "2305386f-7833-439f-8f10-c0dbc8fc7400"
      },
      "execution_count": 43,
      "outputs": [
        {
          "output_type": "execute_result",
          "data": {
            "text/plain": [
              "[]"
            ]
          },
          "metadata": {},
          "execution_count": 43
        },
        {
          "output_type": "display_data",
          "data": {
            "text/plain": [
              "<Figure size 640x480 with 1 Axes>"
            ],
            "image/png": "[encoded data removed]"
          },
          "metadata": {}
        }
      ]
    },
    {
      "cell_type": "code",
      "source": [
        "median_number_of_reviews = data['number_of_reviews'].median()\n",
        "median_last_review = data['last_review'].median()\n",
        "median_reviews_per_month = data['reviews_per_month'].median()\n",
        "\n",
        "print(f\"Nilai median untuk kolom number_of_reviews : {median_number_of_reviews}\")\n",
        "print(f\"Nilai median untuk kolom last_review : {median_last_review}\")\n",
        "print(f\"Nilai median untuk kolom reviews_per_month : {median_reviews_per_month}\")"
      ],
      "metadata": {
        "colab": {
          "base_uri": "https://localhost:8080/"
        },
        "id": "j5NtBD6xY2vV",
        "outputId": "7e652cca-2436-49c7-af8b-b349cc3c8f32"
      },
      "execution_count": 44,
      "outputs": [
        {
          "output_type": "stream",
          "name": "stdout",
          "text": [
            "Nilai median untuk kolom number_of_reviews : 15.0\n",
            "Nilai median untuk kolom last_review : 2019-06-16 00:00:00\n",
            "Nilai median untuk kolom reviews_per_month : 1.52\n"
          ]
        }
      ]
    },
    {
      "cell_type": "code",
      "source": [
        "# kita lakukan imputasi\n",
        "data['number_of_reviews'] = data['number_of_reviews'].fillna(median_number_of_reviews)\n",
        "data['last_review'] = data['last_review'].fillna(median_last_review)\n",
        "data['reviews_per_month'] = data['reviews_per_month'].fillna(median_reviews_per_month)"
      ],
      "metadata": {
        "id": "sLYRivtDce2V"
      },
      "execution_count": 45,
      "outputs": []
    },
    {
      "cell_type": "code",
      "source": [
        "data.isna().sum()"
      ],
      "metadata": {
        "colab": {
          "base_uri": "https://localhost:8080/"
        },
        "id": "JYedH5sHc0m3",
        "outputId": "9861c307-fc40-49e2-da91-ee24b28e0143"
      },
      "execution_count": 46,
      "outputs": [
        {
          "output_type": "execute_result",
          "data": {
            "text/plain": [
              "id                     0\n",
              "name                   0\n",
              "host_id                0\n",
              "host_name              0\n",
              "neighbourhood_group    0\n",
              "neighbourhood          0\n",
              "latitude               0\n",
              "longitude              0\n",
              "room_type              0\n",
              "price                  0\n",
              "minimum_nights         0\n",
              "number_of_reviews      0\n",
              "last_review            0\n",
              "reviews_per_month      0\n",
              "availability_365       0\n",
              "dtype: int64"
            ]
          },
          "metadata": {},
          "execution_count": 46
        }
      ]
    },
    {
      "cell_type": "markdown",
      "source": [
        "###Penyesuaian kolom *last_review*"
      ],
      "metadata": {
        "id": "Xldl1eNg9VtI"
      }
    },
    {
      "cell_type": "markdown",
      "source": [
        "Untuk kolom last_review karena yang diambil hanya tanggalnya, maka kita replace nilai 2019-06-16 00:00:00 menjadi tanggalnya saja yaitu 2019-06-16"
      ],
      "metadata": {
        "id": "ftmXBo6--C-7"
      }
    },
    {
      "cell_type": "code",
      "source": [
        "data['last_review'] = data['last_review'].replace(\"2019-06-16 00:00:00\", \"2019-06-16\")"
      ],
      "metadata": {
        "id": "yX8X25hj9aL2"
      },
      "execution_count": 47,
      "outputs": []
    },
    {
      "cell_type": "markdown",
      "source": [
        "###Visualisasi Data"
      ],
      "metadata": {
        "id": "YF17XILy-fhz"
      }
    },
    {
      "cell_type": "code",
      "source": [
        "plt.hist(data['price'], density=True, bins=100)\n",
        "plt.plot()"
      ],
      "metadata": {
        "colab": {
          "base_uri": "https://localhost:8080/",
          "height": 447
        },
        "id": "b-kgFZ7s-iYB",
        "outputId": "3a2b3733-202d-42fb-c050-798a9621ca94"
      },
      "execution_count": 48,
      "outputs": [
        {
          "output_type": "execute_result",
          "data": {
            "text/plain": [
              "[]"
            ]
          },
          "metadata": {},
          "execution_count": 48
        },
        {
          "output_type": "display_data",
          "data": {
            "text/plain": [
              "<Figure size 640x480 with 1 Axes>"
            ],
            "image/png": "[encoded data removed]"
          },
          "metadata": {}
        }
      ]
    },
    {
      "cell_type": "code",
      "source": [
        "plt.hist(data['number_of_reviews'], density=True, bins=100)\n",
        "plt.plot()"
      ],
      "metadata": {
        "colab": {
          "base_uri": "https://localhost:8080/",
          "height": 447
        },
        "id": "bkotu2xG-lWw",
        "outputId": "c0005a0c-793d-4f82-d351-f255465132f7"
      },
      "execution_count": 49,
      "outputs": [
        {
          "output_type": "execute_result",
          "data": {
            "text/plain": [
              "[]"
            ]
          },
          "metadata": {},
          "execution_count": 49
        },
        {
          "output_type": "display_data",
          "data": {
            "text/plain": [
              "<Figure size 640x480 with 1 Axes>"
            ],
            "image/png": "[encoded data removed]"
          },
          "metadata": {}
        }
      ]
    },
    {
      "cell_type": "code",
      "source": [
        "plt.hist(data['last_review'], density=True, bins=100)\n",
        "plt.plot()"
      ],
      "metadata": {
        "colab": {
          "base_uri": "https://localhost:8080/",
          "height": 447
        },
        "id": "LywJxW98-l1a",
        "outputId": "e54a170d-3c26-430d-fac7-85cc392bbb4b"
      },
      "execution_count": 50,
      "outputs": [
        {
          "output_type": "execute_result",
          "data": {
            "text/plain": [
              "[]"
            ]
          },
          "metadata": {},
          "execution_count": 50
        },
        {
          "output_type": "display_data",
          "data": {
            "text/plain": [
              "<Figure size 640x480 with 1 Axes>"
            ],
            "image/png": "[encoded data removed]"
          },
          "metadata": {}
        }
      ]
    },
    {
      "cell_type": "code",
      "source": [
        "plt.hist(data['reviews_per_month'], density=True, bins=100)\n",
        "plt.plot()"
      ],
      "metadata": {
        "colab": {
          "base_uri": "https://localhost:8080/",
          "height": 447
        },
        "id": "9RO5sCaA-mUM",
        "outputId": "03e1098f-f7e2-4443-902e-ff56b72c1e84"
      },
      "execution_count": 51,
      "outputs": [
        {
          "output_type": "execute_result",
          "data": {
            "text/plain": [
              "[]"
            ]
          },
          "metadata": {},
          "execution_count": 51
        },
        {
          "output_type": "display_data",
          "data": {
            "text/plain": [
              "<Figure size 640x480 with 1 Axes>"
            ],
            "image/png": "[encoded data removed]"
          },
          "metadata": {}
        }
      ]
    }
  ]
}